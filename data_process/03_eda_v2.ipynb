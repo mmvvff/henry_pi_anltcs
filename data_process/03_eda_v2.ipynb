{
 "cells": [
  {
   "cell_type": "markdown",
   "metadata": {},
   "source": [
    "# 3. EDA: Analisis exploratorio de casos"
   ]
  },
  {
   "cell_type": "code",
   "execution_count": 1,
   "metadata": {},
   "outputs": [],
   "source": [
    "# manipulacion de archivos\n",
    "import os\n",
    "\n",
    "# transformacion de datos\n",
    "import numpy as np\n",
    "import pandas as pd\n",
    "from itertools import chain\n",
    "\n",
    "# graficos compatible con dash\n",
    "import plotly.express as px"
   ]
  },
  {
   "cell_type": "markdown",
   "metadata": {},
   "source": [
    "### 3.1. ¿Cuál es la heterogeneidad tecnologica al interior de grupos?\n",
    "\n",
    "En esta seccion, exploramos las caracteristicas tecnologicas de los dos grupos de interes con el fin de entender un poco sobre su contexto tecnologico. Consideramos que ganar claridad sobre la heterogeneidad tecnologica al interior de grupos nos ayudará a entender la distribucion de la volatilidad al interior de cada grupo. "
   ]
  },
  {
   "cell_type": "code",
   "execution_count": 2,
   "metadata": {},
   "outputs": [
    {
     "name": "stdout",
     "output_type": "stream",
     "text": [
      "<class 'pandas.core.frame.DataFrame'>\n",
      "Index: 34078 entries, 2072 to 56249\n",
      "Data columns (total 9 columns):\n",
      " #   Column         Non-Null Count  Dtype  \n",
      "---  ------         --------------  -----  \n",
      " 0   coin_id        34078 non-null  object \n",
      " 1   prices         34078 non-null  float64\n",
      " 2   year           34078 non-null  int32  \n",
      " 3   month          34078 non-null  int32  \n",
      " 4   day            34078 non-null  int32  \n",
      " 5   market_caps    34078 non-null  float64\n",
      " 6   total_volumes  34078 non-null  float64\n",
      " 7   category_id    34078 non-null  object \n",
      " 8   categories     34078 non-null  object \n",
      "dtypes: float64(3), int32(3), object(3)\n",
      "memory usage: 2.2+ MB\n"
     ]
    }
   ],
   "source": [
    "data_market = pd.read_pickle(os.path.join('1_data','data_market.pkl'))\n",
    "data_market.info()"
   ]
  },
  {
   "cell_type": "markdown",
   "metadata": {},
   "source": [
    "#### 3.1.1. Caracteristicas tecnologicas del grupo 'layer-1'"
   ]
  },
  {
   "cell_type": "code",
   "execution_count": 3,
   "metadata": {},
   "outputs": [
    {
     "name": "stdout",
     "output_type": "stream",
     "text": [
      "                      category  count  count_shr\n",
      "0                 Layer 1 (L1)     11     100.00\n",
      "1      Smart Contract Platform      8      72.73\n",
      "2           Ethereum Ecosystem      4      36.36\n",
      "3       Alleged SEC Securities      4      36.36\n",
      "4               Cryptocurrency      3      27.27\n",
      "5          BNB Chain Ecosystem      3      27.27\n",
      "6            Harmony Ecosystem      2      18.18\n",
      "7        Exchange-based Tokens      2      18.18\n",
      "8   Centralized Exchange (CEX)      2      18.18\n",
      "9          Moonriver Ecosystem      2      18.18\n",
      "10            Cosmos Ecosystem      2      18.18\n",
      "11              Infrastructure      1       9.09\n",
      "12             Tezos Ecosystem      1       9.09\n",
      "13          Algorand Ecosystem      1       9.09\n",
      "14            Cronos Ecosystem      1       9.09\n",
      "15           Polygon Ecosystem      1       9.09\n",
      "16                    Protocol      1       9.09\n",
      "17             Canto Ecosystem      1       9.09\n",
      "18           Cardano Ecosystem      1       9.09\n",
      "19         Avalanche Ecosystem      1       9.09\n"
     ]
    }
   ],
   "source": [
    "# nos concentramos unicamente en el grupo 'layer-1'\n",
    "data_coins_info_layer1 = data_market.loc[\n",
    "    data_market['category_id'].str.contains('layer-1')][['coin_id','categories']].drop_duplicates(subset=['coin_id'])\n",
    "\n",
    "# calculamos la frecuencia de cada una de las etiquetas listadas\n",
    "# cada etiqueta corresponde a una caracteristica tecnologica\n",
    "categories_freq_layer1=pd.DataFrame(\n",
    "    pd.Series(list(chain.from_iterable(data_coins_info_layer1['categories'].dropna())))\n",
    "    .value_counts()).reset_index().rename(columns={'index':'category'})\n",
    "\n",
    "# nuevamente, las caracteristicas no son excluyentes, asi que una criptomoneda puede evidenciar multiples caracteristicas\n",
    "# por esta razon, expresamos la frecuencia de cada caracteristica como porcentaje del total de casos del grupo;\n",
    "# naturalmente, todos los casos del grupo Layer 1 (L1) son Layer 1 (L1);\n",
    "# dejamos esta fila como confirmacion de la consistencia en la conformacion de grupos\n",
    "categories_freq_layer1['count_shr']=round((categories_freq_layer1['count']/data_coins_info_layer1['coin_id'].nunique())*100,2)\n",
    "\n",
    "# resultados\n",
    "print(categories_freq_layer1.head(20))\n",
    "categories_freq_layer1_top=categories_freq_layer1.iloc[:10]"
   ]
  },
  {
   "cell_type": "markdown",
   "metadata": {},
   "source": [
    "Con base en lo anterior, observamos que el 72% de nuestro subconjunto de casos estan conformadas por casos con caracteristicas de `Smart Contract Platform`; esta tecnologia ser refiere a criptomoneda que incoporan en su algoritmo las condiciones contractuales de la transaccion, haciendo posible su realizacion automatica en caso que una de las condiciones se cumpla. De igual manera, el 36% son casos de `Alleged SEC Securities`; esta categoria corresponde a criptomonedas que estan vinculadas al valor de la organizacion que las genera según un fallo de la U.S. Securities and Exchange Commission (SEC). Adicionalmente, por lo menos 4 casos pertenecen a un ecosistema de criptomonedas."
   ]
  },
  {
   "cell_type": "markdown",
   "metadata": {},
   "source": [
    "### 3.1.2. Caracteristicas tecnologicas del grupo 'stablecoins'"
   ]
  },
  {
   "cell_type": "code",
   "execution_count": 4,
   "metadata": {},
   "outputs": [
    {
     "name": "stdout",
     "output_type": "stream",
     "text": [
      "                   category  count  count_shr\n",
      "0               Stablecoins     10      100.0\n",
      "1        Ethereum Ecosystem     10      100.0\n",
      "2         Polygon Ecosystem      7       70.0\n",
      "3            USD Stablecoin      7       70.0\n",
      "4         Harmony Ecosystem      6       60.0\n",
      "5          Fantom Ecosystem      5       50.0\n",
      "6       BNB Chain Ecosystem      5       50.0\n",
      "7       Avalanche Ecosystem      5       50.0\n",
      "8          Cronos Ecosystem      4       40.0\n",
      "9        Moonbeam Ecosystem      4       40.0\n",
      "10       Arbitrum Ecosystem      4       40.0\n",
      "11          Velas Ecosystem      4       40.0\n",
      "12  Near Protocol Ecosystem      4       40.0\n",
      "13      Moonriver Ecosystem      4       40.0\n",
      "14   Gnosis Chain Ecosystem      4       40.0\n",
      "15          Metis Ecosystem      3       30.0\n",
      "16         Solana Ecosystem      3       30.0\n",
      "17       Optimism Ecosystem      3       30.0\n",
      "18          Canto Ecosystem      2       20.0\n",
      "19        Finance / Banking      2       20.0\n"
     ]
    }
   ],
   "source": [
    "# nos concentramos unicamente en el grupo 'stablecoins'\n",
    "data_coins_info_stable = data_market.loc[\n",
    "    data_market['category_id'].str.contains('stablecoins')][['coin_id','categories']].drop_duplicates(subset=['coin_id'])\n",
    "\n",
    "# calculamos la frecuencia de cada una de las etiquetas listadas\n",
    "# cada etiqueta corresponde a una caracteristica tecnologica\n",
    "categories_freq_stable=pd.DataFrame(\n",
    "    pd.Series(list(chain.from_iterable(data_coins_info_stable['categories'].dropna())))\n",
    "    .value_counts()).reset_index().rename(columns={'index':'category'})\n",
    "\n",
    "# nuevamente, las caracteristicas no son excluyentes, asi que una criptomoneda puede evidenciar multiples caracteristicas\n",
    "# por esta razon, expresamos la frecuencia de cada caracteristica como porcentaje del total de casos del grupo;\n",
    "# naturalmente, todos los casos del grupo stablecoins son stablecoins;\n",
    "# dejamos esta fila como confirmacion de la consistencia en la conformacion de grupos\n",
    "categories_freq_stable['count_shr']=round((categories_freq_stable['count']/data_coins_info_stable['coin_id'].nunique())*100,2)\n",
    "\n",
    "# resultados\n",
    "print(categories_freq_stable.head(20))\n",
    "categories_freq_stable_top=categories_freq_stable.iloc[:10]"
   ]
  },
  {
   "cell_type": "markdown",
   "metadata": {},
   "source": [
    "A diferencia del grupo anterior (`Layer 1 (L1)`), la tabla de arriba sugiere que la enorme mayoria de los casos pertenece a algun ecosistema te criptomonedas. Observamos que el 100% de nuestro grupo `stablecoins` puede integrarse con el ecosistema `Ethereum Ecosystem`, seguido por el 70% de los casos que hacen parte tanto de algunos de los ecosistemas `USD Stablecoin` o `Polygon Ecosystem`.\n",
    "\n",
    "Como mencionamos anteriormente, la membresia a un ecosistema particular no es excluyente de su membresia a otro. Esto sugiere que los casos de nuestro grupo `stablecoins` parecen ser relativamente flexbibles en terminos tecnologicos; es decir, son criptomonedas con una flexbilidad tecnologica suficiente que pueden empleadas en una amplia variedad de ecosistemas. Esto tambien ayuda a entender por que estas son las `stablecoins` con mayor el volumen de intercambio."
   ]
  },
  {
   "cell_type": "markdown",
   "metadata": {},
   "source": [
    "## 3.2. Distribucion de la volatilidad por año"
   ]
  },
  {
   "cell_type": "markdown",
   "metadata": {},
   "source": [
    "### 3.2.1. Volatilidad en precios corrientes"
   ]
  },
  {
   "cell_type": "code",
   "execution_count": 5,
   "metadata": {},
   "outputs": [
    {
     "name": "stdout",
     "output_type": "stream",
     "text": [
      "<class 'pandas.core.frame.DataFrame'>\n",
      "Index: 105 entries, 10 to 64\n",
      "Data columns (total 7 columns):\n",
      " #   Column         Non-Null Count  Dtype  \n",
      "---  ------         --------------  -----  \n",
      " 0   category_id    105 non-null    object \n",
      " 1   coin_id        105 non-null    object \n",
      " 2   year           105 non-null    int32  \n",
      " 3   sd_coin        105 non-null    float64\n",
      " 4   sd_group_mean  105 non-null    float64\n",
      " 5   vltlty_ratio   105 non-null    float64\n",
      " 6   vltlty_rank    105 non-null    float64\n",
      "dtypes: float64(4), int32(1), object(2)\n",
      "memory usage: 6.2+ KB\n"
     ]
    },
    {
     "data": {
      "text/html": [
       "<div>\n",
       "<style scoped>\n",
       "    .dataframe tbody tr th:only-of-type {\n",
       "        vertical-align: middle;\n",
       "    }\n",
       "\n",
       "    .dataframe tbody tr th {\n",
       "        vertical-align: top;\n",
       "    }\n",
       "\n",
       "    .dataframe thead th {\n",
       "        text-align: right;\n",
       "    }\n",
       "</style>\n",
       "<table border=\"1\" class=\"dataframe\">\n",
       "  <thead>\n",
       "    <tr style=\"text-align: right;\">\n",
       "      <th></th>\n",
       "      <th>category_id</th>\n",
       "      <th>coin_id</th>\n",
       "      <th>year</th>\n",
       "      <th>sd_coin</th>\n",
       "      <th>sd_group_mean</th>\n",
       "      <th>vltlty_ratio</th>\n",
       "      <th>vltlty_rank</th>\n",
       "    </tr>\n",
       "  </thead>\n",
       "  <tbody>\n",
       "    <tr>\n",
       "      <th>10</th>\n",
       "      <td>layer-1</td>\n",
       "      <td>bitcoin</td>\n",
       "      <td>2019</td>\n",
       "      <td>2655.712480</td>\n",
       "      <td>255.73451</td>\n",
       "      <td>10.384646</td>\n",
       "      <td>1.0</td>\n",
       "    </tr>\n",
       "    <tr>\n",
       "      <th>15</th>\n",
       "      <td>layer-1</td>\n",
       "      <td>bitcoin-cash</td>\n",
       "      <td>2019</td>\n",
       "      <td>96.242064</td>\n",
       "      <td>255.73451</td>\n",
       "      <td>0.376336</td>\n",
       "      <td>2.0</td>\n",
       "    </tr>\n",
       "    <tr>\n",
       "      <th>35</th>\n",
       "      <td>layer-1</td>\n",
       "      <td>ethereum</td>\n",
       "      <td>2019</td>\n",
       "      <td>50.775028</td>\n",
       "      <td>255.73451</td>\n",
       "      <td>0.198546</td>\n",
       "      <td>3.0</td>\n",
       "    </tr>\n",
       "    <tr>\n",
       "      <th>5</th>\n",
       "      <td>layer-1</td>\n",
       "      <td>binancecoin</td>\n",
       "      <td>2019</td>\n",
       "      <td>8.374184</td>\n",
       "      <td>255.73451</td>\n",
       "      <td>0.032746</td>\n",
       "      <td>4.0</td>\n",
       "    </tr>\n",
       "    <tr>\n",
       "      <th>25</th>\n",
       "      <td>layer-1</td>\n",
       "      <td>cosmos</td>\n",
       "      <td>2019</td>\n",
       "      <td>1.132393</td>\n",
       "      <td>255.73451</td>\n",
       "      <td>0.004428</td>\n",
       "      <td>5.0</td>\n",
       "    </tr>\n",
       "  </tbody>\n",
       "</table>\n",
       "</div>"
      ],
      "text/plain": [
       "   category_id       coin_id  year      sd_coin  sd_group_mean  vltlty_ratio  \\\n",
       "10     layer-1       bitcoin  2019  2655.712480      255.73451     10.384646   \n",
       "15     layer-1  bitcoin-cash  2019    96.242064      255.73451      0.376336   \n",
       "35     layer-1      ethereum  2019    50.775028      255.73451      0.198546   \n",
       "5      layer-1   binancecoin  2019     8.374184      255.73451      0.032746   \n",
       "25     layer-1        cosmos  2019     1.132393      255.73451      0.004428   \n",
       "\n",
       "    vltlty_rank  \n",
       "10          1.0  \n",
       "15          2.0  \n",
       "35          3.0  \n",
       "5           4.0  \n",
       "25          5.0  "
      ]
     },
     "execution_count": 5,
     "metadata": {},
     "output_type": "execute_result"
    }
   ],
   "source": [
    "data_market_prcvoltlty_crrnt = pd.read_pickle(os.path.join('2_pipeline','data_market_prcvoltlty_crrnt.pkl'))\n",
    "data_market_prcvoltlty_crrnt.to_csv(os.path.join(\"3_output\",\"data_market_prcvoltlty_crrnt.csv\"))\n",
    "data_market_prcvoltlty_crrnt.info()\n",
    "data_market_prcvoltlty_crrnt.head()"
   ]
  },
  {
   "cell_type": "code",
   "execution_count": 6,
   "metadata": {},
   "outputs": [
    {
     "data": {
      "text/html": [
       "<div>\n",
       "<style scoped>\n",
       "    .dataframe tbody tr th:only-of-type {\n",
       "        vertical-align: middle;\n",
       "    }\n",
       "\n",
       "    .dataframe tbody tr th {\n",
       "        vertical-align: top;\n",
       "    }\n",
       "\n",
       "    .dataframe thead th {\n",
       "        text-align: right;\n",
       "    }\n",
       "</style>\n",
       "<table border=\"1\" class=\"dataframe\">\n",
       "  <thead>\n",
       "    <tr style=\"text-align: right;\">\n",
       "      <th></th>\n",
       "      <th>category_id</th>\n",
       "      <th>year</th>\n",
       "      <th>observaciones</th>\n",
       "    </tr>\n",
       "  </thead>\n",
       "  <tbody>\n",
       "    <tr>\n",
       "      <th>0</th>\n",
       "      <td>layer-1</td>\n",
       "      <td>2019</td>\n",
       "      <td>11</td>\n",
       "    </tr>\n",
       "    <tr>\n",
       "      <th>1</th>\n",
       "      <td>layer-1</td>\n",
       "      <td>2020</td>\n",
       "      <td>11</td>\n",
       "    </tr>\n",
       "    <tr>\n",
       "      <th>2</th>\n",
       "      <td>layer-1</td>\n",
       "      <td>2021</td>\n",
       "      <td>11</td>\n",
       "    </tr>\n",
       "    <tr>\n",
       "      <th>3</th>\n",
       "      <td>layer-1</td>\n",
       "      <td>2022</td>\n",
       "      <td>11</td>\n",
       "    </tr>\n",
       "    <tr>\n",
       "      <th>4</th>\n",
       "      <td>layer-1</td>\n",
       "      <td>2023</td>\n",
       "      <td>11</td>\n",
       "    </tr>\n",
       "    <tr>\n",
       "      <th>5</th>\n",
       "      <td>stablecoins</td>\n",
       "      <td>2019</td>\n",
       "      <td>10</td>\n",
       "    </tr>\n",
       "    <tr>\n",
       "      <th>6</th>\n",
       "      <td>stablecoins</td>\n",
       "      <td>2020</td>\n",
       "      <td>10</td>\n",
       "    </tr>\n",
       "    <tr>\n",
       "      <th>7</th>\n",
       "      <td>stablecoins</td>\n",
       "      <td>2021</td>\n",
       "      <td>10</td>\n",
       "    </tr>\n",
       "    <tr>\n",
       "      <th>8</th>\n",
       "      <td>stablecoins</td>\n",
       "      <td>2022</td>\n",
       "      <td>10</td>\n",
       "    </tr>\n",
       "    <tr>\n",
       "      <th>9</th>\n",
       "      <td>stablecoins</td>\n",
       "      <td>2023</td>\n",
       "      <td>10</td>\n",
       "    </tr>\n",
       "  </tbody>\n",
       "</table>\n",
       "</div>"
      ],
      "text/plain": [
       "   category_id  year  observaciones\n",
       "0      layer-1  2019             11\n",
       "1      layer-1  2020             11\n",
       "2      layer-1  2021             11\n",
       "3      layer-1  2022             11\n",
       "4      layer-1  2023             11\n",
       "5  stablecoins  2019             10\n",
       "6  stablecoins  2020             10\n",
       "7  stablecoins  2021             10\n",
       "8  stablecoins  2022             10\n",
       "9  stablecoins  2023             10"
      ]
     },
     "execution_count": 6,
     "metadata": {},
     "output_type": "execute_result"
    }
   ],
   "source": [
    "# create a group using groupby\n",
    "groups_all = data_market_prcvoltlty_crrnt.groupby(['category_id','year'])\n",
    "  \n",
    "# size of group to count observations\n",
    "groups_all = groups_all.size()\n",
    "  \n",
    "# make a column name \n",
    "groups_all.reset_index(name='observaciones')"
   ]
  },
  {
   "cell_type": "code",
   "execution_count": 7,
   "metadata": {},
   "outputs": [
    {
     "data": {
      "application/vnd.plotly.v1+json": {
       "config": {
        "plotlyServerURL": "https://plot.ly"
       },
       "data": [
        {
         "alignmentgroup": "True",
         "boxpoints": "all",
         "hovertemplate": "Categoria=layer-1<br>año=%{x}<br>Volatilidad relativa (nlog)=%{y}<extra></extra>",
         "legendgroup": "",
         "marker": {
          "color": "#636efa"
         },
         "name": "",
         "notched": false,
         "offsetgroup": "",
         "orientation": "v",
         "showlegend": false,
         "type": "box",
         "x": [
          2019,
          2019,
          2019,
          2019,
          2019,
          2019,
          2019,
          2019,
          2019,
          2019,
          2019,
          2020,
          2020,
          2020,
          2020,
          2020,
          2020,
          2020,
          2020,
          2020,
          2020,
          2020,
          2021,
          2021,
          2021,
          2021,
          2021,
          2021,
          2021,
          2021,
          2021,
          2021,
          2021,
          2022,
          2022,
          2022,
          2022,
          2022,
          2022,
          2022,
          2022,
          2022,
          2022,
          2022,
          2023,
          2023,
          2023,
          2023,
          2023,
          2023,
          2023,
          2023,
          2023,
          2023,
          2023
         ],
         "x0": " ",
         "xaxis": "x",
         "y": [
          2.3403284139978693,
          -0.977273316606491,
          -1.6167351770776526,
          -3.418986231021633,
          -5.419806974046845,
          -6.432899641573113,
          -6.530487930730857,
          -9.380691005092121,
          -9.532389690282333,
          -9.922189057746541,
          -10.547611744570883,
          2.349666945981324,
          -1.0336381760118665,
          -1.9565555182898469,
          -4.1692412637806155,
          -5.699227954718956,
          -6.476348872930314,
          -8.303690965318921,
          -9.08558848321555,
          -9.182653151024866,
          -10.559095524594046,
          -10.579357533981153,
          2.264583143312532,
          0.008974060973457716,
          -1.6878189318574197,
          -1.793990643830351,
          -4.7028739472495955,
          -6.52844180721108,
          -7.10649959658936,
          -7.409139642689267,
          -7.738262870130097,
          -8.724532360165316,
          -9.180815127409184,
          2.3076063216116665,
          -0.26672821676092917,
          -2.293400551318443,
          -2.6464215090697762,
          -4.679509634691367,
          -6.8714852922903695,
          -7.172203825559755,
          -8.016554761402201,
          -8.097632876892968,
          -8.790742971675211,
          -9.451289360528504,
          2.3250527442771904,
          -0.6936018147363266,
          -1.8519337461190644,
          -2.211605392247324,
          -5.2203206042083545,
          -7.649758389713952,
          -8.083362652943102,
          -8.735052310398672,
          -8.864432355183027,
          -10.390034752618568,
          -10.542628471683335
         ],
         "y0": " ",
         "yaxis": "y"
        },
        {
         "alignmentgroup": "True",
         "boxpoints": "all",
         "hovertemplate": "Categoria=stablecoins<br>año=%{x}<br>Volatilidad relativa (nlog)=%{y}<extra></extra>",
         "legendgroup": "",
         "marker": {
          "color": "#636efa"
         },
         "name": "",
         "notched": false,
         "offsetgroup": "",
         "orientation": "v",
         "showlegend": false,
         "type": "box",
         "x": [
          2019,
          2019,
          2019,
          2019,
          2019,
          2019,
          2019,
          2019,
          2019,
          2019,
          2020,
          2020,
          2020,
          2020,
          2020,
          2020,
          2020,
          2020,
          2020,
          2020,
          2021,
          2021,
          2021,
          2021,
          2021,
          2021,
          2021,
          2021,
          2021,
          2021,
          2022,
          2022,
          2022,
          2022,
          2022,
          2022,
          2022,
          2022,
          2022,
          2022,
          2023,
          2023,
          2023,
          2023,
          2023,
          2023,
          2023,
          2023,
          2023,
          2023
         ],
         "x0": " ",
         "xaxis": "x2",
         "y": [
          2.3004816534864334,
          -5.138690958504041,
          -5.157261801580253,
          -6.018219806634833,
          -6.357040750954816,
          -6.407407161003931,
          -6.500900615900309,
          -6.993429304079475,
          -7.4314624005865735,
          -7.488651776036877,
          2.301912473083813,
          -5.749349014982693,
          -6.984165007700944,
          -7.106515222490033,
          -7.264331952480745,
          -8.138328891708428,
          -8.242316688682223,
          -8.244960440695486,
          -8.797579489993662,
          -8.99719333849433,
          2.3009964701141787,
          -4.893129921112242,
          -5.699829955344743,
          -6.4689494808035395,
          -7.348713120917314,
          -7.380711805961035,
          -7.3903449716047245,
          -7.497333735070816,
          -7.546962898872982,
          -7.576640992809666,
          2.301793965106981,
          -5.168417732396167,
          -7.14066409969512,
          -7.894689928612671,
          -8.344308203294164,
          -8.545889402777318,
          -8.59306237564802,
          -8.747165102145864,
          -8.836304675718116,
          -8.964333805899981,
          2.3019925692264667,
          -6.043990205621604,
          -6.882896870636591,
          -7.605442796396298,
          -7.7781427273425345,
          -7.778979422420517,
          -7.87338664626525,
          -8.08624601225533,
          -8.277681637582516,
          -8.299411176591455
         ],
         "y0": " ",
         "yaxis": "y2"
        }
       ],
       "layout": {
        "annotations": [
         {
          "showarrow": false,
          "text": "Categoria=layer-1",
          "x": 0.245,
          "xanchor": "center",
          "xref": "paper",
          "y": 1,
          "yanchor": "bottom",
          "yref": "paper"
         },
         {
          "showarrow": false,
          "text": "Categoria=stablecoins",
          "x": 0.755,
          "xanchor": "center",
          "xref": "paper",
          "y": 1,
          "yanchor": "bottom",
          "yref": "paper"
         }
        ],
        "boxmode": "group",
        "legend": {
         "tracegroupgap": 0
        },
        "shapes": [
         {
          "line": {
           "color": "red",
           "dash": "dash",
           "width": 2
          },
          "type": "line",
          "x0": 0,
          "x1": 1,
          "xref": "x domain",
          "y0": 0,
          "y1": 0,
          "yref": "y"
         },
         {
          "line": {
           "color": "red",
           "dash": "dash",
           "width": 2
          },
          "type": "line",
          "x0": 0,
          "x1": 1,
          "xref": "x2 domain",
          "y0": 0,
          "y1": 0,
          "yref": "y2"
         }
        ],
        "template": {
         "data": {
          "bar": [
           {
            "error_x": {
             "color": "#2a3f5f"
            },
            "error_y": {
             "color": "#2a3f5f"
            },
            "marker": {
             "line": {
              "color": "#E5ECF6",
              "width": 0.5
             },
             "pattern": {
              "fillmode": "overlay",
              "size": 10,
              "solidity": 0.2
             }
            },
            "type": "bar"
           }
          ],
          "barpolar": [
           {
            "marker": {
             "line": {
              "color": "#E5ECF6",
              "width": 0.5
             },
             "pattern": {
              "fillmode": "overlay",
              "size": 10,
              "solidity": 0.2
             }
            },
            "type": "barpolar"
           }
          ],
          "carpet": [
           {
            "aaxis": {
             "endlinecolor": "#2a3f5f",
             "gridcolor": "white",
             "linecolor": "white",
             "minorgridcolor": "white",
             "startlinecolor": "#2a3f5f"
            },
            "baxis": {
             "endlinecolor": "#2a3f5f",
             "gridcolor": "white",
             "linecolor": "white",
             "minorgridcolor": "white",
             "startlinecolor": "#2a3f5f"
            },
            "type": "carpet"
           }
          ],
          "choropleth": [
           {
            "colorbar": {
             "outlinewidth": 0,
             "ticks": ""
            },
            "type": "choropleth"
           }
          ],
          "contour": [
           {
            "colorbar": {
             "outlinewidth": 0,
             "ticks": ""
            },
            "colorscale": [
             [
              0,
              "#0d0887"
             ],
             [
              0.1111111111111111,
              "#46039f"
             ],
             [
              0.2222222222222222,
              "#7201a8"
             ],
             [
              0.3333333333333333,
              "#9c179e"
             ],
             [
              0.4444444444444444,
              "#bd3786"
             ],
             [
              0.5555555555555556,
              "#d8576b"
             ],
             [
              0.6666666666666666,
              "#ed7953"
             ],
             [
              0.7777777777777778,
              "#fb9f3a"
             ],
             [
              0.8888888888888888,
              "#fdca26"
             ],
             [
              1,
              "#f0f921"
             ]
            ],
            "type": "contour"
           }
          ],
          "contourcarpet": [
           {
            "colorbar": {
             "outlinewidth": 0,
             "ticks": ""
            },
            "type": "contourcarpet"
           }
          ],
          "heatmap": [
           {
            "colorbar": {
             "outlinewidth": 0,
             "ticks": ""
            },
            "colorscale": [
             [
              0,
              "#0d0887"
             ],
             [
              0.1111111111111111,
              "#46039f"
             ],
             [
              0.2222222222222222,
              "#7201a8"
             ],
             [
              0.3333333333333333,
              "#9c179e"
             ],
             [
              0.4444444444444444,
              "#bd3786"
             ],
             [
              0.5555555555555556,
              "#d8576b"
             ],
             [
              0.6666666666666666,
              "#ed7953"
             ],
             [
              0.7777777777777778,
              "#fb9f3a"
             ],
             [
              0.8888888888888888,
              "#fdca26"
             ],
             [
              1,
              "#f0f921"
             ]
            ],
            "type": "heatmap"
           }
          ],
          "heatmapgl": [
           {
            "colorbar": {
             "outlinewidth": 0,
             "ticks": ""
            },
            "colorscale": [
             [
              0,
              "#0d0887"
             ],
             [
              0.1111111111111111,
              "#46039f"
             ],
             [
              0.2222222222222222,
              "#7201a8"
             ],
             [
              0.3333333333333333,
              "#9c179e"
             ],
             [
              0.4444444444444444,
              "#bd3786"
             ],
             [
              0.5555555555555556,
              "#d8576b"
             ],
             [
              0.6666666666666666,
              "#ed7953"
             ],
             [
              0.7777777777777778,
              "#fb9f3a"
             ],
             [
              0.8888888888888888,
              "#fdca26"
             ],
             [
              1,
              "#f0f921"
             ]
            ],
            "type": "heatmapgl"
           }
          ],
          "histogram": [
           {
            "marker": {
             "pattern": {
              "fillmode": "overlay",
              "size": 10,
              "solidity": 0.2
             }
            },
            "type": "histogram"
           }
          ],
          "histogram2d": [
           {
            "colorbar": {
             "outlinewidth": 0,
             "ticks": ""
            },
            "colorscale": [
             [
              0,
              "#0d0887"
             ],
             [
              0.1111111111111111,
              "#46039f"
             ],
             [
              0.2222222222222222,
              "#7201a8"
             ],
             [
              0.3333333333333333,
              "#9c179e"
             ],
             [
              0.4444444444444444,
              "#bd3786"
             ],
             [
              0.5555555555555556,
              "#d8576b"
             ],
             [
              0.6666666666666666,
              "#ed7953"
             ],
             [
              0.7777777777777778,
              "#fb9f3a"
             ],
             [
              0.8888888888888888,
              "#fdca26"
             ],
             [
              1,
              "#f0f921"
             ]
            ],
            "type": "histogram2d"
           }
          ],
          "histogram2dcontour": [
           {
            "colorbar": {
             "outlinewidth": 0,
             "ticks": ""
            },
            "colorscale": [
             [
              0,
              "#0d0887"
             ],
             [
              0.1111111111111111,
              "#46039f"
             ],
             [
              0.2222222222222222,
              "#7201a8"
             ],
             [
              0.3333333333333333,
              "#9c179e"
             ],
             [
              0.4444444444444444,
              "#bd3786"
             ],
             [
              0.5555555555555556,
              "#d8576b"
             ],
             [
              0.6666666666666666,
              "#ed7953"
             ],
             [
              0.7777777777777778,
              "#fb9f3a"
             ],
             [
              0.8888888888888888,
              "#fdca26"
             ],
             [
              1,
              "#f0f921"
             ]
            ],
            "type": "histogram2dcontour"
           }
          ],
          "mesh3d": [
           {
            "colorbar": {
             "outlinewidth": 0,
             "ticks": ""
            },
            "type": "mesh3d"
           }
          ],
          "parcoords": [
           {
            "line": {
             "colorbar": {
              "outlinewidth": 0,
              "ticks": ""
             }
            },
            "type": "parcoords"
           }
          ],
          "pie": [
           {
            "automargin": true,
            "type": "pie"
           }
          ],
          "scatter": [
           {
            "fillpattern": {
             "fillmode": "overlay",
             "size": 10,
             "solidity": 0.2
            },
            "type": "scatter"
           }
          ],
          "scatter3d": [
           {
            "line": {
             "colorbar": {
              "outlinewidth": 0,
              "ticks": ""
             }
            },
            "marker": {
             "colorbar": {
              "outlinewidth": 0,
              "ticks": ""
             }
            },
            "type": "scatter3d"
           }
          ],
          "scattercarpet": [
           {
            "marker": {
             "colorbar": {
              "outlinewidth": 0,
              "ticks": ""
             }
            },
            "type": "scattercarpet"
           }
          ],
          "scattergeo": [
           {
            "marker": {
             "colorbar": {
              "outlinewidth": 0,
              "ticks": ""
             }
            },
            "type": "scattergeo"
           }
          ],
          "scattergl": [
           {
            "marker": {
             "colorbar": {
              "outlinewidth": 0,
              "ticks": ""
             }
            },
            "type": "scattergl"
           }
          ],
          "scattermapbox": [
           {
            "marker": {
             "colorbar": {
              "outlinewidth": 0,
              "ticks": ""
             }
            },
            "type": "scattermapbox"
           }
          ],
          "scatterpolar": [
           {
            "marker": {
             "colorbar": {
              "outlinewidth": 0,
              "ticks": ""
             }
            },
            "type": "scatterpolar"
           }
          ],
          "scatterpolargl": [
           {
            "marker": {
             "colorbar": {
              "outlinewidth": 0,
              "ticks": ""
             }
            },
            "type": "scatterpolargl"
           }
          ],
          "scatterternary": [
           {
            "marker": {
             "colorbar": {
              "outlinewidth": 0,
              "ticks": ""
             }
            },
            "type": "scatterternary"
           }
          ],
          "surface": [
           {
            "colorbar": {
             "outlinewidth": 0,
             "ticks": ""
            },
            "colorscale": [
             [
              0,
              "#0d0887"
             ],
             [
              0.1111111111111111,
              "#46039f"
             ],
             [
              0.2222222222222222,
              "#7201a8"
             ],
             [
              0.3333333333333333,
              "#9c179e"
             ],
             [
              0.4444444444444444,
              "#bd3786"
             ],
             [
              0.5555555555555556,
              "#d8576b"
             ],
             [
              0.6666666666666666,
              "#ed7953"
             ],
             [
              0.7777777777777778,
              "#fb9f3a"
             ],
             [
              0.8888888888888888,
              "#fdca26"
             ],
             [
              1,
              "#f0f921"
             ]
            ],
            "type": "surface"
           }
          ],
          "table": [
           {
            "cells": {
             "fill": {
              "color": "#EBF0F8"
             },
             "line": {
              "color": "white"
             }
            },
            "header": {
             "fill": {
              "color": "#C8D4E3"
             },
             "line": {
              "color": "white"
             }
            },
            "type": "table"
           }
          ]
         },
         "layout": {
          "annotationdefaults": {
           "arrowcolor": "#2a3f5f",
           "arrowhead": 0,
           "arrowwidth": 1
          },
          "autotypenumbers": "strict",
          "coloraxis": {
           "colorbar": {
            "outlinewidth": 0,
            "ticks": ""
           }
          },
          "colorscale": {
           "diverging": [
            [
             0,
             "#8e0152"
            ],
            [
             0.1,
             "#c51b7d"
            ],
            [
             0.2,
             "#de77ae"
            ],
            [
             0.3,
             "#f1b6da"
            ],
            [
             0.4,
             "#fde0ef"
            ],
            [
             0.5,
             "#f7f7f7"
            ],
            [
             0.6,
             "#e6f5d0"
            ],
            [
             0.7,
             "#b8e186"
            ],
            [
             0.8,
             "#7fbc41"
            ],
            [
             0.9,
             "#4d9221"
            ],
            [
             1,
             "#276419"
            ]
           ],
           "sequential": [
            [
             0,
             "#0d0887"
            ],
            [
             0.1111111111111111,
             "#46039f"
            ],
            [
             0.2222222222222222,
             "#7201a8"
            ],
            [
             0.3333333333333333,
             "#9c179e"
            ],
            [
             0.4444444444444444,
             "#bd3786"
            ],
            [
             0.5555555555555556,
             "#d8576b"
            ],
            [
             0.6666666666666666,
             "#ed7953"
            ],
            [
             0.7777777777777778,
             "#fb9f3a"
            ],
            [
             0.8888888888888888,
             "#fdca26"
            ],
            [
             1,
             "#f0f921"
            ]
           ],
           "sequentialminus": [
            [
             0,
             "#0d0887"
            ],
            [
             0.1111111111111111,
             "#46039f"
            ],
            [
             0.2222222222222222,
             "#7201a8"
            ],
            [
             0.3333333333333333,
             "#9c179e"
            ],
            [
             0.4444444444444444,
             "#bd3786"
            ],
            [
             0.5555555555555556,
             "#d8576b"
            ],
            [
             0.6666666666666666,
             "#ed7953"
            ],
            [
             0.7777777777777778,
             "#fb9f3a"
            ],
            [
             0.8888888888888888,
             "#fdca26"
            ],
            [
             1,
             "#f0f921"
            ]
           ]
          },
          "colorway": [
           "#636efa",
           "#EF553B",
           "#00cc96",
           "#ab63fa",
           "#FFA15A",
           "#19d3f3",
           "#FF6692",
           "#B6E880",
           "#FF97FF",
           "#FECB52"
          ],
          "font": {
           "color": "#2a3f5f"
          },
          "geo": {
           "bgcolor": "white",
           "lakecolor": "white",
           "landcolor": "#E5ECF6",
           "showlakes": true,
           "showland": true,
           "subunitcolor": "white"
          },
          "hoverlabel": {
           "align": "left"
          },
          "hovermode": "closest",
          "mapbox": {
           "style": "light"
          },
          "paper_bgcolor": "white",
          "plot_bgcolor": "#E5ECF6",
          "polar": {
           "angularaxis": {
            "gridcolor": "white",
            "linecolor": "white",
            "ticks": ""
           },
           "bgcolor": "#E5ECF6",
           "radialaxis": {
            "gridcolor": "white",
            "linecolor": "white",
            "ticks": ""
           }
          },
          "scene": {
           "xaxis": {
            "backgroundcolor": "#E5ECF6",
            "gridcolor": "white",
            "gridwidth": 2,
            "linecolor": "white",
            "showbackground": true,
            "ticks": "",
            "zerolinecolor": "white"
           },
           "yaxis": {
            "backgroundcolor": "#E5ECF6",
            "gridcolor": "white",
            "gridwidth": 2,
            "linecolor": "white",
            "showbackground": true,
            "ticks": "",
            "zerolinecolor": "white"
           },
           "zaxis": {
            "backgroundcolor": "#E5ECF6",
            "gridcolor": "white",
            "gridwidth": 2,
            "linecolor": "white",
            "showbackground": true,
            "ticks": "",
            "zerolinecolor": "white"
           }
          },
          "shapedefaults": {
           "line": {
            "color": "#2a3f5f"
           }
          },
          "ternary": {
           "aaxis": {
            "gridcolor": "white",
            "linecolor": "white",
            "ticks": ""
           },
           "baxis": {
            "gridcolor": "white",
            "linecolor": "white",
            "ticks": ""
           },
           "bgcolor": "#E5ECF6",
           "caxis": {
            "gridcolor": "white",
            "linecolor": "white",
            "ticks": ""
           }
          },
          "title": {
           "x": 0.05
          },
          "xaxis": {
           "automargin": true,
           "gridcolor": "white",
           "linecolor": "white",
           "ticks": "",
           "title": {
            "standoff": 15
           },
           "zerolinecolor": "white",
           "zerolinewidth": 2
          },
          "yaxis": {
           "automargin": true,
           "gridcolor": "white",
           "linecolor": "white",
           "ticks": "",
           "title": {
            "standoff": 15
           },
           "zerolinecolor": "white",
           "zerolinewidth": 2
          }
         }
        },
        "title": {
         "text": "Distribucion de la volatilidad relativa, por año (precios corrientes, USD$)"
        },
        "xaxis": {
         "anchor": "y",
         "domain": [
          0,
          0.49
         ],
         "title": {
          "text": "año"
         },
         "type": "category"
        },
        "xaxis2": {
         "anchor": "y2",
         "domain": [
          0.51,
          1
         ],
         "matches": "x",
         "title": {
          "text": "año"
         },
         "type": "category"
        },
        "yaxis": {
         "anchor": "x",
         "domain": [
          0,
          1
         ],
         "title": {
          "text": "Volatilidad relativa (nlog)"
         }
        },
        "yaxis2": {
         "anchor": "x2",
         "domain": [
          0,
          1
         ],
         "matches": "y",
         "showticklabels": false
        }
       }
      }
     },
     "metadata": {},
     "output_type": "display_data"
    }
   ],
   "source": [
    "# transformos los datos a su log natural para facilitar su visualizacion\n",
    "data_market_prcvoltlty_crrnt.loc[:,'vltlty_ratio_log'] = np.log(data_market_prcvoltlty_crrnt['vltlty_ratio'])\n",
    "\n",
    "# Boxplot\n",
    "boxplot_crrnt = px.box(\n",
    "    data_market_prcvoltlty_crrnt#.loc[\n",
    "        #data_market_prcvoltlty_crrnt['category_id'].str.contains('layer-1')]\n",
    "    ,\n",
    "    x='year',\n",
    "    y='vltlty_ratio_log',\n",
    "    points='all',\n",
    "    facet_col='category_id',\n",
    "    facet_col_wrap=2,\n",
    "    labels={\n",
    "        'year': 'año',\n",
    "        'vltlty_ratio_log': 'Volatilidad relativa (nlog)',\n",
    "        'category_id': 'Categoria'},\n",
    "    title='Distribucion de la volatilidad relativa, por año (precios corrientes, USD$)')\n",
    " \n",
    "boxplot_crrnt.add_hline(\n",
    "    y=np.log(1),\n",
    "    line_width=2,\n",
    "    line_dash='dash',\n",
    "    line_color='red')\n",
    "boxplot_crrnt.update_xaxes(type='category')\n",
    "boxplot_crrnt.show()"
   ]
  },
  {
   "cell_type": "markdown",
   "metadata": {},
   "source": [
    "### 3.2.2. Variacion en la volatilidad segun contexto local"
   ]
  },
  {
   "cell_type": "code",
   "execution_count": 8,
   "metadata": {},
   "outputs": [
    {
     "name": "stdout",
     "output_type": "stream",
     "text": [
      "<class 'pandas.core.frame.DataFrame'>\n",
      "RangeIndex: 420 entries, 0 to 419\n",
      "Data columns (total 7 columns):\n",
      " #   Column                Non-Null Count  Dtype  \n",
      "---  ------                --------------  -----  \n",
      " 0   category_id           420 non-null    object \n",
      " 1   code_pais             420 non-null    object \n",
      " 2   coin_id               420 non-null    object \n",
      " 3   year                  420 non-null    int32  \n",
      " 4   sd_pais_coin          420 non-null    float64\n",
      " 5   sd_group_pais_mean    420 non-null    float64\n",
      " 6   sd_group_pais_median  420 non-null    float64\n",
      "dtypes: float64(3), int32(1), object(3)\n",
      "memory usage: 21.5+ KB\n"
     ]
    },
    {
     "data": {
      "text/html": [
       "<div>\n",
       "<style scoped>\n",
       "    .dataframe tbody tr th:only-of-type {\n",
       "        vertical-align: middle;\n",
       "    }\n",
       "\n",
       "    .dataframe tbody tr th {\n",
       "        vertical-align: top;\n",
       "    }\n",
       "\n",
       "    .dataframe thead th {\n",
       "        text-align: right;\n",
       "    }\n",
       "</style>\n",
       "<table border=\"1\" class=\"dataframe\">\n",
       "  <thead>\n",
       "    <tr style=\"text-align: right;\">\n",
       "      <th></th>\n",
       "      <th>category_id</th>\n",
       "      <th>code_pais</th>\n",
       "      <th>coin_id</th>\n",
       "      <th>year</th>\n",
       "      <th>sd_pais_coin</th>\n",
       "      <th>sd_group_pais_mean</th>\n",
       "      <th>sd_group_pais_median</th>\n",
       "    </tr>\n",
       "  </thead>\n",
       "  <tbody>\n",
       "    <tr>\n",
       "      <th>0</th>\n",
       "      <td>layer-1</td>\n",
       "      <td>ARG</td>\n",
       "      <td>algorand</td>\n",
       "      <td>2019</td>\n",
       "      <td>0.765119</td>\n",
       "      <td>475.884650</td>\n",
       "      <td>0.765119</td>\n",
       "    </tr>\n",
       "    <tr>\n",
       "      <th>1</th>\n",
       "      <td>layer-1</td>\n",
       "      <td>ARG</td>\n",
       "      <td>algorand</td>\n",
       "      <td>2020</td>\n",
       "      <td>0.193741</td>\n",
       "      <td>782.470174</td>\n",
       "      <td>1.204551</td>\n",
       "    </tr>\n",
       "    <tr>\n",
       "      <th>2</th>\n",
       "      <td>layer-1</td>\n",
       "      <td>ARG</td>\n",
       "      <td>algorand</td>\n",
       "      <td>2021</td>\n",
       "      <td>0.758258</td>\n",
       "      <td>1739.810852</td>\n",
       "      <td>2.542353</td>\n",
       "    </tr>\n",
       "    <tr>\n",
       "      <th>3</th>\n",
       "      <td>layer-1</td>\n",
       "      <td>ARG</td>\n",
       "      <td>algorand</td>\n",
       "      <td>2022</td>\n",
       "      <td>0.463004</td>\n",
       "      <td>1403.234830</td>\n",
       "      <td>1.455064</td>\n",
       "    </tr>\n",
       "    <tr>\n",
       "      <th>4</th>\n",
       "      <td>layer-1</td>\n",
       "      <td>ARG</td>\n",
       "      <td>binancecoin</td>\n",
       "      <td>2019</td>\n",
       "      <td>15.583135</td>\n",
       "      <td>475.884650</td>\n",
       "      <td>0.765119</td>\n",
       "    </tr>\n",
       "  </tbody>\n",
       "</table>\n",
       "</div>"
      ],
      "text/plain": [
       "  category_id code_pais      coin_id  year  sd_pais_coin  sd_group_pais_mean  \\\n",
       "0     layer-1       ARG     algorand  2019      0.765119          475.884650   \n",
       "1     layer-1       ARG     algorand  2020      0.193741          782.470174   \n",
       "2     layer-1       ARG     algorand  2021      0.758258         1739.810852   \n",
       "3     layer-1       ARG     algorand  2022      0.463004         1403.234830   \n",
       "4     layer-1       ARG  binancecoin  2019     15.583135          475.884650   \n",
       "\n",
       "   sd_group_pais_median  \n",
       "0              0.765119  \n",
       "1              1.204551  \n",
       "2              2.542353  \n",
       "3              1.455064  \n",
       "4              0.765119  "
      ]
     },
     "execution_count": 8,
     "metadata": {},
     "output_type": "execute_result"
    }
   ],
   "source": [
    "data_market_prcvoltlty_constant = pd.read_pickle(os.path.join('2_pipeline','data_market_prcvoltlty_constant.pkl'))\n",
    "data_market_prcvoltlty_constant.info()\n",
    "data_market_prcvoltlty_constant.head()"
   ]
  },
  {
   "cell_type": "code",
   "execution_count": 9,
   "metadata": {},
   "outputs": [
    {
     "data": {
      "text/html": [
       "<div>\n",
       "<style scoped>\n",
       "    .dataframe tbody tr th:only-of-type {\n",
       "        vertical-align: middle;\n",
       "    }\n",
       "\n",
       "    .dataframe tbody tr th {\n",
       "        vertical-align: top;\n",
       "    }\n",
       "\n",
       "    .dataframe thead th {\n",
       "        text-align: right;\n",
       "    }\n",
       "</style>\n",
       "<table border=\"1\" class=\"dataframe\">\n",
       "  <thead>\n",
       "    <tr style=\"text-align: right;\">\n",
       "      <th></th>\n",
       "      <th>category_id</th>\n",
       "      <th>code_pais</th>\n",
       "      <th>observaciones</th>\n",
       "    </tr>\n",
       "  </thead>\n",
       "  <tbody>\n",
       "    <tr>\n",
       "      <th>0</th>\n",
       "      <td>layer-1</td>\n",
       "      <td>ARG</td>\n",
       "      <td>4</td>\n",
       "    </tr>\n",
       "    <tr>\n",
       "      <th>1</th>\n",
       "      <td>layer-1</td>\n",
       "      <td>BRA</td>\n",
       "      <td>4</td>\n",
       "    </tr>\n",
       "    <tr>\n",
       "      <th>2</th>\n",
       "      <td>layer-1</td>\n",
       "      <td>COL</td>\n",
       "      <td>4</td>\n",
       "    </tr>\n",
       "    <tr>\n",
       "      <th>3</th>\n",
       "      <td>layer-1</td>\n",
       "      <td>MEX</td>\n",
       "      <td>4</td>\n",
       "    </tr>\n",
       "    <tr>\n",
       "      <th>4</th>\n",
       "      <td>layer-1</td>\n",
       "      <td>USA</td>\n",
       "      <td>4</td>\n",
       "    </tr>\n",
       "    <tr>\n",
       "      <th>5</th>\n",
       "      <td>stablecoins</td>\n",
       "      <td>ARG</td>\n",
       "      <td>4</td>\n",
       "    </tr>\n",
       "    <tr>\n",
       "      <th>6</th>\n",
       "      <td>stablecoins</td>\n",
       "      <td>BRA</td>\n",
       "      <td>4</td>\n",
       "    </tr>\n",
       "    <tr>\n",
       "      <th>7</th>\n",
       "      <td>stablecoins</td>\n",
       "      <td>COL</td>\n",
       "      <td>4</td>\n",
       "    </tr>\n",
       "    <tr>\n",
       "      <th>8</th>\n",
       "      <td>stablecoins</td>\n",
       "      <td>MEX</td>\n",
       "      <td>4</td>\n",
       "    </tr>\n",
       "    <tr>\n",
       "      <th>9</th>\n",
       "      <td>stablecoins</td>\n",
       "      <td>USA</td>\n",
       "      <td>4</td>\n",
       "    </tr>\n",
       "  </tbody>\n",
       "</table>\n",
       "</div>"
      ],
      "text/plain": [
       "   category_id code_pais  observaciones\n",
       "0      layer-1       ARG              4\n",
       "1      layer-1       BRA              4\n",
       "2      layer-1       COL              4\n",
       "3      layer-1       MEX              4\n",
       "4      layer-1       USA              4\n",
       "5  stablecoins       ARG              4\n",
       "6  stablecoins       BRA              4\n",
       "7  stablecoins       COL              4\n",
       "8  stablecoins       MEX              4\n",
       "9  stablecoins       USA              4"
      ]
     },
     "execution_count": 9,
     "metadata": {},
     "output_type": "execute_result"
    }
   ],
   "source": [
    "# create a group using groupby\n",
    "data_market_prcvoltlty_constant_sd_group_pais=data_market_prcvoltlty_constant[\n",
    "    ['category_id','code_pais','sd_group_pais_mean','sd_group_pais_median']\n",
    "    ].copy().drop_duplicates()\n",
    "data_market_prcvoltlty_constant_sd_group_pais.to_csv(os.path.join(\"3_output\",\"data_market_prcvoltlty_constant_sd_group_pais.csv\"))\n",
    "groups_cntry = data_market_prcvoltlty_constant_sd_group_pais.groupby(['category_id','code_pais'])\n",
    "  \n",
    "# size of group to count observations\n",
    "groups_cntry = groups_cntry.size()\n",
    "  \n",
    "# make a column name \n",
    "groups_cntry.reset_index(name='observaciones')"
   ]
  },
  {
   "cell_type": "code",
   "execution_count": 10,
   "metadata": {},
   "outputs": [
    {
     "data": {
      "application/vnd.plotly.v1+json": {
       "config": {
        "plotlyServerURL": "https://plot.ly"
       },
       "data": [
        {
         "alignmentgroup": "True",
         "boxpoints": "all",
         "hovertemplate": "Categoria=layer-1<br>pais=%{x}<br>Promedio anual de Desv. std (nlog)=%{y}<extra></extra>",
         "legendgroup": "",
         "marker": {
          "color": "#636efa"
         },
         "name": "",
         "notched": false,
         "offsetgroup": "",
         "orientation": "v",
         "showlegend": false,
         "type": "box",
         "x": [
          "ARG",
          "ARG",
          "ARG",
          "ARG",
          "BRA",
          "BRA",
          "BRA",
          "BRA",
          "COL",
          "COL",
          "COL",
          "COL",
          "MEX",
          "MEX",
          "MEX",
          "MEX",
          "USA",
          "USA",
          "USA",
          "USA"
         ],
         "x0": " ",
         "xaxis": "x",
         "y": [
          6.165175493006912,
          6.662455805887771,
          7.461531680445591,
          7.246535443410819,
          6.0296106095199535,
          6.686991789035015,
          7.558773578674891,
          7.430816625670911,
          6.303595427028891,
          6.859488519642247,
          7.733551915813528,
          7.724305866145743,
          6.174585834178557,
          6.695333106933646,
          7.521094951770145,
          7.441232578487306,
          5.4738129902568415,
          5.913259078467488,
          6.80354733914859,
          6.731118017250775
         ],
         "y0": " ",
         "yaxis": "y"
        },
        {
         "alignmentgroup": "True",
         "boxpoints": "all",
         "hovertemplate": "Categoria=stablecoins<br>pais=%{x}<br>Promedio anual de Desv. std (nlog)=%{y}<extra></extra>",
         "legendgroup": "",
         "marker": {
          "color": "#636efa"
         },
         "name": "",
         "notched": false,
         "offsetgroup": "",
         "orientation": "v",
         "showlegend": false,
         "type": "box",
         "x": [
          "ARG",
          "ARG",
          "ARG",
          "ARG",
          "BRA",
          "BRA",
          "BRA",
          "BRA",
          "COL",
          "COL",
          "COL",
          "COL",
          "MEX",
          "MEX",
          "MEX",
          "MEX",
          "USA",
          "USA",
          "USA",
          "USA"
         ],
         "x0": " ",
         "xaxis": "x2",
         "y": [
          1.6588243183346738,
          3.342871769684147,
          2.2012676829370443,
          2.588797879371505,
          1.5232594348477182,
          3.367407752831381,
          2.298509581166348,
          2.773079061631589,
          1.7972442523566494,
          3.539904483438614,
          2.4732879183049823,
          3.066568302106417,
          1.668234659506321,
          3.3757490707300164,
          2.2608309542615923,
          2.7834950144479875,
          0.9674618155846053,
          2.593675042263859,
          1.5432833416400435,
          2.0733804532114526
         ],
         "y0": " ",
         "yaxis": "y2"
        }
       ],
       "layout": {
        "annotations": [
         {
          "font": {},
          "showarrow": false,
          "text": "Categoria=layer-1",
          "x": 0.245,
          "xanchor": "center",
          "xref": "paper",
          "y": 1,
          "yanchor": "bottom",
          "yref": "paper"
         },
         {
          "font": {},
          "showarrow": false,
          "text": "Categoria=stablecoins",
          "x": 0.755,
          "xanchor": "center",
          "xref": "paper",
          "y": 1,
          "yanchor": "bottom",
          "yref": "paper"
         }
        ],
        "boxmode": "group",
        "legend": {
         "tracegroupgap": 0
        },
        "template": {
         "data": {
          "bar": [
           {
            "error_x": {
             "color": "#2a3f5f"
            },
            "error_y": {
             "color": "#2a3f5f"
            },
            "marker": {
             "line": {
              "color": "#E5ECF6",
              "width": 0.5
             },
             "pattern": {
              "fillmode": "overlay",
              "size": 10,
              "solidity": 0.2
             }
            },
            "type": "bar"
           }
          ],
          "barpolar": [
           {
            "marker": {
             "line": {
              "color": "#E5ECF6",
              "width": 0.5
             },
             "pattern": {
              "fillmode": "overlay",
              "size": 10,
              "solidity": 0.2
             }
            },
            "type": "barpolar"
           }
          ],
          "carpet": [
           {
            "aaxis": {
             "endlinecolor": "#2a3f5f",
             "gridcolor": "white",
             "linecolor": "white",
             "minorgridcolor": "white",
             "startlinecolor": "#2a3f5f"
            },
            "baxis": {
             "endlinecolor": "#2a3f5f",
             "gridcolor": "white",
             "linecolor": "white",
             "minorgridcolor": "white",
             "startlinecolor": "#2a3f5f"
            },
            "type": "carpet"
           }
          ],
          "choropleth": [
           {
            "colorbar": {
             "outlinewidth": 0,
             "ticks": ""
            },
            "type": "choropleth"
           }
          ],
          "contour": [
           {
            "colorbar": {
             "outlinewidth": 0,
             "ticks": ""
            },
            "colorscale": [
             [
              0,
              "#0d0887"
             ],
             [
              0.1111111111111111,
              "#46039f"
             ],
             [
              0.2222222222222222,
              "#7201a8"
             ],
             [
              0.3333333333333333,
              "#9c179e"
             ],
             [
              0.4444444444444444,
              "#bd3786"
             ],
             [
              0.5555555555555556,
              "#d8576b"
             ],
             [
              0.6666666666666666,
              "#ed7953"
             ],
             [
              0.7777777777777778,
              "#fb9f3a"
             ],
             [
              0.8888888888888888,
              "#fdca26"
             ],
             [
              1,
              "#f0f921"
             ]
            ],
            "type": "contour"
           }
          ],
          "contourcarpet": [
           {
            "colorbar": {
             "outlinewidth": 0,
             "ticks": ""
            },
            "type": "contourcarpet"
           }
          ],
          "heatmap": [
           {
            "colorbar": {
             "outlinewidth": 0,
             "ticks": ""
            },
            "colorscale": [
             [
              0,
              "#0d0887"
             ],
             [
              0.1111111111111111,
              "#46039f"
             ],
             [
              0.2222222222222222,
              "#7201a8"
             ],
             [
              0.3333333333333333,
              "#9c179e"
             ],
             [
              0.4444444444444444,
              "#bd3786"
             ],
             [
              0.5555555555555556,
              "#d8576b"
             ],
             [
              0.6666666666666666,
              "#ed7953"
             ],
             [
              0.7777777777777778,
              "#fb9f3a"
             ],
             [
              0.8888888888888888,
              "#fdca26"
             ],
             [
              1,
              "#f0f921"
             ]
            ],
            "type": "heatmap"
           }
          ],
          "heatmapgl": [
           {
            "colorbar": {
             "outlinewidth": 0,
             "ticks": ""
            },
            "colorscale": [
             [
              0,
              "#0d0887"
             ],
             [
              0.1111111111111111,
              "#46039f"
             ],
             [
              0.2222222222222222,
              "#7201a8"
             ],
             [
              0.3333333333333333,
              "#9c179e"
             ],
             [
              0.4444444444444444,
              "#bd3786"
             ],
             [
              0.5555555555555556,
              "#d8576b"
             ],
             [
              0.6666666666666666,
              "#ed7953"
             ],
             [
              0.7777777777777778,
              "#fb9f3a"
             ],
             [
              0.8888888888888888,
              "#fdca26"
             ],
             [
              1,
              "#f0f921"
             ]
            ],
            "type": "heatmapgl"
           }
          ],
          "histogram": [
           {
            "marker": {
             "pattern": {
              "fillmode": "overlay",
              "size": 10,
              "solidity": 0.2
             }
            },
            "type": "histogram"
           }
          ],
          "histogram2d": [
           {
            "colorbar": {
             "outlinewidth": 0,
             "ticks": ""
            },
            "colorscale": [
             [
              0,
              "#0d0887"
             ],
             [
              0.1111111111111111,
              "#46039f"
             ],
             [
              0.2222222222222222,
              "#7201a8"
             ],
             [
              0.3333333333333333,
              "#9c179e"
             ],
             [
              0.4444444444444444,
              "#bd3786"
             ],
             [
              0.5555555555555556,
              "#d8576b"
             ],
             [
              0.6666666666666666,
              "#ed7953"
             ],
             [
              0.7777777777777778,
              "#fb9f3a"
             ],
             [
              0.8888888888888888,
              "#fdca26"
             ],
             [
              1,
              "#f0f921"
             ]
            ],
            "type": "histogram2d"
           }
          ],
          "histogram2dcontour": [
           {
            "colorbar": {
             "outlinewidth": 0,
             "ticks": ""
            },
            "colorscale": [
             [
              0,
              "#0d0887"
             ],
             [
              0.1111111111111111,
              "#46039f"
             ],
             [
              0.2222222222222222,
              "#7201a8"
             ],
             [
              0.3333333333333333,
              "#9c179e"
             ],
             [
              0.4444444444444444,
              "#bd3786"
             ],
             [
              0.5555555555555556,
              "#d8576b"
             ],
             [
              0.6666666666666666,
              "#ed7953"
             ],
             [
              0.7777777777777778,
              "#fb9f3a"
             ],
             [
              0.8888888888888888,
              "#fdca26"
             ],
             [
              1,
              "#f0f921"
             ]
            ],
            "type": "histogram2dcontour"
           }
          ],
          "mesh3d": [
           {
            "colorbar": {
             "outlinewidth": 0,
             "ticks": ""
            },
            "type": "mesh3d"
           }
          ],
          "parcoords": [
           {
            "line": {
             "colorbar": {
              "outlinewidth": 0,
              "ticks": ""
             }
            },
            "type": "parcoords"
           }
          ],
          "pie": [
           {
            "automargin": true,
            "type": "pie"
           }
          ],
          "scatter": [
           {
            "fillpattern": {
             "fillmode": "overlay",
             "size": 10,
             "solidity": 0.2
            },
            "type": "scatter"
           }
          ],
          "scatter3d": [
           {
            "line": {
             "colorbar": {
              "outlinewidth": 0,
              "ticks": ""
             }
            },
            "marker": {
             "colorbar": {
              "outlinewidth": 0,
              "ticks": ""
             }
            },
            "type": "scatter3d"
           }
          ],
          "scattercarpet": [
           {
            "marker": {
             "colorbar": {
              "outlinewidth": 0,
              "ticks": ""
             }
            },
            "type": "scattercarpet"
           }
          ],
          "scattergeo": [
           {
            "marker": {
             "colorbar": {
              "outlinewidth": 0,
              "ticks": ""
             }
            },
            "type": "scattergeo"
           }
          ],
          "scattergl": [
           {
            "marker": {
             "colorbar": {
              "outlinewidth": 0,
              "ticks": ""
             }
            },
            "type": "scattergl"
           }
          ],
          "scattermapbox": [
           {
            "marker": {
             "colorbar": {
              "outlinewidth": 0,
              "ticks": ""
             }
            },
            "type": "scattermapbox"
           }
          ],
          "scatterpolar": [
           {
            "marker": {
             "colorbar": {
              "outlinewidth": 0,
              "ticks": ""
             }
            },
            "type": "scatterpolar"
           }
          ],
          "scatterpolargl": [
           {
            "marker": {
             "colorbar": {
              "outlinewidth": 0,
              "ticks": ""
             }
            },
            "type": "scatterpolargl"
           }
          ],
          "scatterternary": [
           {
            "marker": {
             "colorbar": {
              "outlinewidth": 0,
              "ticks": ""
             }
            },
            "type": "scatterternary"
           }
          ],
          "surface": [
           {
            "colorbar": {
             "outlinewidth": 0,
             "ticks": ""
            },
            "colorscale": [
             [
              0,
              "#0d0887"
             ],
             [
              0.1111111111111111,
              "#46039f"
             ],
             [
              0.2222222222222222,
              "#7201a8"
             ],
             [
              0.3333333333333333,
              "#9c179e"
             ],
             [
              0.4444444444444444,
              "#bd3786"
             ],
             [
              0.5555555555555556,
              "#d8576b"
             ],
             [
              0.6666666666666666,
              "#ed7953"
             ],
             [
              0.7777777777777778,
              "#fb9f3a"
             ],
             [
              0.8888888888888888,
              "#fdca26"
             ],
             [
              1,
              "#f0f921"
             ]
            ],
            "type": "surface"
           }
          ],
          "table": [
           {
            "cells": {
             "fill": {
              "color": "#EBF0F8"
             },
             "line": {
              "color": "white"
             }
            },
            "header": {
             "fill": {
              "color": "#C8D4E3"
             },
             "line": {
              "color": "white"
             }
            },
            "type": "table"
           }
          ]
         },
         "layout": {
          "annotationdefaults": {
           "arrowcolor": "#2a3f5f",
           "arrowhead": 0,
           "arrowwidth": 1
          },
          "autotypenumbers": "strict",
          "coloraxis": {
           "colorbar": {
            "outlinewidth": 0,
            "ticks": ""
           }
          },
          "colorscale": {
           "diverging": [
            [
             0,
             "#8e0152"
            ],
            [
             0.1,
             "#c51b7d"
            ],
            [
             0.2,
             "#de77ae"
            ],
            [
             0.3,
             "#f1b6da"
            ],
            [
             0.4,
             "#fde0ef"
            ],
            [
             0.5,
             "#f7f7f7"
            ],
            [
             0.6,
             "#e6f5d0"
            ],
            [
             0.7,
             "#b8e186"
            ],
            [
             0.8,
             "#7fbc41"
            ],
            [
             0.9,
             "#4d9221"
            ],
            [
             1,
             "#276419"
            ]
           ],
           "sequential": [
            [
             0,
             "#0d0887"
            ],
            [
             0.1111111111111111,
             "#46039f"
            ],
            [
             0.2222222222222222,
             "#7201a8"
            ],
            [
             0.3333333333333333,
             "#9c179e"
            ],
            [
             0.4444444444444444,
             "#bd3786"
            ],
            [
             0.5555555555555556,
             "#d8576b"
            ],
            [
             0.6666666666666666,
             "#ed7953"
            ],
            [
             0.7777777777777778,
             "#fb9f3a"
            ],
            [
             0.8888888888888888,
             "#fdca26"
            ],
            [
             1,
             "#f0f921"
            ]
           ],
           "sequentialminus": [
            [
             0,
             "#0d0887"
            ],
            [
             0.1111111111111111,
             "#46039f"
            ],
            [
             0.2222222222222222,
             "#7201a8"
            ],
            [
             0.3333333333333333,
             "#9c179e"
            ],
            [
             0.4444444444444444,
             "#bd3786"
            ],
            [
             0.5555555555555556,
             "#d8576b"
            ],
            [
             0.6666666666666666,
             "#ed7953"
            ],
            [
             0.7777777777777778,
             "#fb9f3a"
            ],
            [
             0.8888888888888888,
             "#fdca26"
            ],
            [
             1,
             "#f0f921"
            ]
           ]
          },
          "colorway": [
           "#636efa",
           "#EF553B",
           "#00cc96",
           "#ab63fa",
           "#FFA15A",
           "#19d3f3",
           "#FF6692",
           "#B6E880",
           "#FF97FF",
           "#FECB52"
          ],
          "font": {
           "color": "#2a3f5f"
          },
          "geo": {
           "bgcolor": "white",
           "lakecolor": "white",
           "landcolor": "#E5ECF6",
           "showlakes": true,
           "showland": true,
           "subunitcolor": "white"
          },
          "hoverlabel": {
           "align": "left"
          },
          "hovermode": "closest",
          "mapbox": {
           "style": "light"
          },
          "paper_bgcolor": "white",
          "plot_bgcolor": "#E5ECF6",
          "polar": {
           "angularaxis": {
            "gridcolor": "white",
            "linecolor": "white",
            "ticks": ""
           },
           "bgcolor": "#E5ECF6",
           "radialaxis": {
            "gridcolor": "white",
            "linecolor": "white",
            "ticks": ""
           }
          },
          "scene": {
           "xaxis": {
            "backgroundcolor": "#E5ECF6",
            "gridcolor": "white",
            "gridwidth": 2,
            "linecolor": "white",
            "showbackground": true,
            "ticks": "",
            "zerolinecolor": "white"
           },
           "yaxis": {
            "backgroundcolor": "#E5ECF6",
            "gridcolor": "white",
            "gridwidth": 2,
            "linecolor": "white",
            "showbackground": true,
            "ticks": "",
            "zerolinecolor": "white"
           },
           "zaxis": {
            "backgroundcolor": "#E5ECF6",
            "gridcolor": "white",
            "gridwidth": 2,
            "linecolor": "white",
            "showbackground": true,
            "ticks": "",
            "zerolinecolor": "white"
           }
          },
          "shapedefaults": {
           "line": {
            "color": "#2a3f5f"
           }
          },
          "ternary": {
           "aaxis": {
            "gridcolor": "white",
            "linecolor": "white",
            "ticks": ""
           },
           "baxis": {
            "gridcolor": "white",
            "linecolor": "white",
            "ticks": ""
           },
           "bgcolor": "#E5ECF6",
           "caxis": {
            "gridcolor": "white",
            "linecolor": "white",
            "ticks": ""
           }
          },
          "title": {
           "x": 0.05
          },
          "xaxis": {
           "automargin": true,
           "gridcolor": "white",
           "linecolor": "white",
           "ticks": "",
           "title": {
            "standoff": 15
           },
           "zerolinecolor": "white",
           "zerolinewidth": 2
          },
          "yaxis": {
           "automargin": true,
           "gridcolor": "white",
           "linecolor": "white",
           "ticks": "",
           "title": {
            "standoff": 15
           },
           "zerolinecolor": "white",
           "zerolinewidth": 2
          }
         }
        },
        "title": {
         "text": "Distribucion del promedio anual de Desv. std, por pais (precios constantes, USD$2017)"
        },
        "xaxis": {
         "anchor": "y",
         "domain": [
          0,
          0.49
         ],
         "title": {
          "text": "pais"
         },
         "type": "category"
        },
        "xaxis2": {
         "anchor": "y2",
         "domain": [
          0.51,
          1
         ],
         "matches": "x",
         "title": {
          "text": "pais"
         },
         "type": "category"
        },
        "yaxis": {
         "anchor": "x",
         "domain": [
          0,
          1
         ],
         "title": {
          "text": "Promedio anual de Desv. std (nlog)"
         }
        },
        "yaxis2": {
         "anchor": "x2",
         "domain": [
          0,
          1
         ],
         "matches": "y",
         "showticklabels": false
        }
       }
      }
     },
     "metadata": {},
     "output_type": "display_data"
    }
   ],
   "source": [
    "# transformos los datos a su log natural para facilitar su visualizacion\n",
    "data_market_prcvoltlty_constant_sd_group_pais.loc[:,'sd_group_pais_mean_log'] = np.log(\n",
    "    data_market_prcvoltlty_constant_sd_group_pais['sd_group_pais_mean'])\n",
    "\n",
    "# Boxplot\n",
    "boxplot_constant = px.box(\n",
    "    data_market_prcvoltlty_constant_sd_group_pais#.loc[\n",
    "        #data_market_prcvoltlty_constant_sd_group_pais['category_id'].str.contains('layer-1')]\n",
    "        ,\n",
    "    x='code_pais',\n",
    "    y='sd_group_pais_mean_log',\n",
    "    points='all',\n",
    "    facet_col='category_id',\n",
    "    facet_col_wrap=2,\n",
    "    labels={\n",
    "        'code_pais': 'pais',\n",
    "        'sd_group_pais_mean_log': 'Promedio anual de Desv. std (nlog)',\n",
    "        'category_id': 'Categoria'},\n",
    "    title='Distribucion del promedio anual de Desv. std, por pais (precios constantes, USD$2017)')\n",
    "boxplot_constant.update_xaxes(type='category')\n",
    "boxplot_constant.show()"
   ]
  },
  {
   "cell_type": "code",
   "execution_count": 11,
   "metadata": {},
   "outputs": [
    {
     "data": {
      "application/vnd.plotly.v1+json": {
       "config": {
        "plotlyServerURL": "https://plot.ly"
       },
       "data": [
        {
         "alignmentgroup": "True",
         "boxpoints": "all",
         "hovertemplate": "Categoria=layer-1<br>pais=%{x}<br>Mediana anual de Desv. std (nlog)=%{y}<extra></extra>",
         "legendgroup": "",
         "marker": {
          "color": "#636efa"
         },
         "name": "",
         "notched": false,
         "offsetgroup": "",
         "orientation": "v",
         "showlegend": false,
         "type": "box",
         "x": [
          "ARG",
          "ARG",
          "ARG",
          "ARG",
          "BRA",
          "BRA",
          "BRA",
          "BRA",
          "COL",
          "COL",
          "COL",
          "COL",
          "MEX",
          "MEX",
          "MEX",
          "MEX",
          "USA",
          "USA",
          "USA",
          "USA"
         ],
         "x0": " ",
         "xaxis": "x",
         "y": [
          -0.267724148566199,
          0.18610693295745898,
          0.9330898732345124,
          0.3750501511204484,
          -0.40328903205315897,
          0.21064291610470195,
          1.030331771463813,
          0.5593313333805406,
          -0.12930421454422122,
          0.38313964671193274,
          1.20511010860245,
          0.8528205738553716,
          -0.2583138073945555,
          0.21898423400333328,
          0.9926531445590661,
          0.5697472861969366,
          -0.9590866513162715,
          -0.563089794462824,
          0.2751055319375103,
          -0.14036727503959245
         ],
         "y0": " ",
         "yaxis": "y"
        },
        {
         "alignmentgroup": "True",
         "boxpoints": "all",
         "hovertemplate": "Categoria=stablecoins<br>pais=%{x}<br>Mediana anual de Desv. std (nlog)=%{y}<extra></extra>",
         "legendgroup": "",
         "marker": {
          "color": "#636efa"
         },
         "name": "",
         "notched": false,
         "offsetgroup": "",
         "orientation": "v",
         "showlegend": false,
         "type": "box",
         "x": [
          "ARG",
          "ARG",
          "ARG",
          "ARG",
          "BRA",
          "BRA",
          "BRA",
          "BRA",
          "COL",
          "COL",
          "COL",
          "COL",
          "MEX",
          "MEX",
          "MEX",
          "MEX",
          "USA",
          "USA",
          "USA",
          "USA"
         ],
         "x0": " ",
         "xaxis": "x2",
         "y": [
          -4.723082574248186,
          -4.265867562377107,
          -5.163316796481634,
          -5.85123012794865,
          -4.8586474577351435,
          -4.241331579229865,
          -5.066074898252326,
          -5.666948945688604,
          -4.584662640226192,
          -4.06883484862263,
          -4.891296561113701,
          -5.373459705213779,
          -4.713672233076531,
          -4.232990261331241,
          -5.103753525157078,
          -5.656532992872178,
          -5.41444507699825,
          -5.015064289797381,
          -5.821301137778638,
          -6.366647554108705
         ],
         "y0": " ",
         "yaxis": "y2"
        }
       ],
       "layout": {
        "annotations": [
         {
          "font": {},
          "showarrow": false,
          "text": "Categoria=layer-1",
          "x": 0.245,
          "xanchor": "center",
          "xref": "paper",
          "y": 1,
          "yanchor": "bottom",
          "yref": "paper"
         },
         {
          "font": {},
          "showarrow": false,
          "text": "Categoria=stablecoins",
          "x": 0.755,
          "xanchor": "center",
          "xref": "paper",
          "y": 1,
          "yanchor": "bottom",
          "yref": "paper"
         }
        ],
        "boxmode": "group",
        "legend": {
         "tracegroupgap": 0
        },
        "template": {
         "data": {
          "bar": [
           {
            "error_x": {
             "color": "#2a3f5f"
            },
            "error_y": {
             "color": "#2a3f5f"
            },
            "marker": {
             "line": {
              "color": "#E5ECF6",
              "width": 0.5
             },
             "pattern": {
              "fillmode": "overlay",
              "size": 10,
              "solidity": 0.2
             }
            },
            "type": "bar"
           }
          ],
          "barpolar": [
           {
            "marker": {
             "line": {
              "color": "#E5ECF6",
              "width": 0.5
             },
             "pattern": {
              "fillmode": "overlay",
              "size": 10,
              "solidity": 0.2
             }
            },
            "type": "barpolar"
           }
          ],
          "carpet": [
           {
            "aaxis": {
             "endlinecolor": "#2a3f5f",
             "gridcolor": "white",
             "linecolor": "white",
             "minorgridcolor": "white",
             "startlinecolor": "#2a3f5f"
            },
            "baxis": {
             "endlinecolor": "#2a3f5f",
             "gridcolor": "white",
             "linecolor": "white",
             "minorgridcolor": "white",
             "startlinecolor": "#2a3f5f"
            },
            "type": "carpet"
           }
          ],
          "choropleth": [
           {
            "colorbar": {
             "outlinewidth": 0,
             "ticks": ""
            },
            "type": "choropleth"
           }
          ],
          "contour": [
           {
            "colorbar": {
             "outlinewidth": 0,
             "ticks": ""
            },
            "colorscale": [
             [
              0,
              "#0d0887"
             ],
             [
              0.1111111111111111,
              "#46039f"
             ],
             [
              0.2222222222222222,
              "#7201a8"
             ],
             [
              0.3333333333333333,
              "#9c179e"
             ],
             [
              0.4444444444444444,
              "#bd3786"
             ],
             [
              0.5555555555555556,
              "#d8576b"
             ],
             [
              0.6666666666666666,
              "#ed7953"
             ],
             [
              0.7777777777777778,
              "#fb9f3a"
             ],
             [
              0.8888888888888888,
              "#fdca26"
             ],
             [
              1,
              "#f0f921"
             ]
            ],
            "type": "contour"
           }
          ],
          "contourcarpet": [
           {
            "colorbar": {
             "outlinewidth": 0,
             "ticks": ""
            },
            "type": "contourcarpet"
           }
          ],
          "heatmap": [
           {
            "colorbar": {
             "outlinewidth": 0,
             "ticks": ""
            },
            "colorscale": [
             [
              0,
              "#0d0887"
             ],
             [
              0.1111111111111111,
              "#46039f"
             ],
             [
              0.2222222222222222,
              "#7201a8"
             ],
             [
              0.3333333333333333,
              "#9c179e"
             ],
             [
              0.4444444444444444,
              "#bd3786"
             ],
             [
              0.5555555555555556,
              "#d8576b"
             ],
             [
              0.6666666666666666,
              "#ed7953"
             ],
             [
              0.7777777777777778,
              "#fb9f3a"
             ],
             [
              0.8888888888888888,
              "#fdca26"
             ],
             [
              1,
              "#f0f921"
             ]
            ],
            "type": "heatmap"
           }
          ],
          "heatmapgl": [
           {
            "colorbar": {
             "outlinewidth": 0,
             "ticks": ""
            },
            "colorscale": [
             [
              0,
              "#0d0887"
             ],
             [
              0.1111111111111111,
              "#46039f"
             ],
             [
              0.2222222222222222,
              "#7201a8"
             ],
             [
              0.3333333333333333,
              "#9c179e"
             ],
             [
              0.4444444444444444,
              "#bd3786"
             ],
             [
              0.5555555555555556,
              "#d8576b"
             ],
             [
              0.6666666666666666,
              "#ed7953"
             ],
             [
              0.7777777777777778,
              "#fb9f3a"
             ],
             [
              0.8888888888888888,
              "#fdca26"
             ],
             [
              1,
              "#f0f921"
             ]
            ],
            "type": "heatmapgl"
           }
          ],
          "histogram": [
           {
            "marker": {
             "pattern": {
              "fillmode": "overlay",
              "size": 10,
              "solidity": 0.2
             }
            },
            "type": "histogram"
           }
          ],
          "histogram2d": [
           {
            "colorbar": {
             "outlinewidth": 0,
             "ticks": ""
            },
            "colorscale": [
             [
              0,
              "#0d0887"
             ],
             [
              0.1111111111111111,
              "#46039f"
             ],
             [
              0.2222222222222222,
              "#7201a8"
             ],
             [
              0.3333333333333333,
              "#9c179e"
             ],
             [
              0.4444444444444444,
              "#bd3786"
             ],
             [
              0.5555555555555556,
              "#d8576b"
             ],
             [
              0.6666666666666666,
              "#ed7953"
             ],
             [
              0.7777777777777778,
              "#fb9f3a"
             ],
             [
              0.8888888888888888,
              "#fdca26"
             ],
             [
              1,
              "#f0f921"
             ]
            ],
            "type": "histogram2d"
           }
          ],
          "histogram2dcontour": [
           {
            "colorbar": {
             "outlinewidth": 0,
             "ticks": ""
            },
            "colorscale": [
             [
              0,
              "#0d0887"
             ],
             [
              0.1111111111111111,
              "#46039f"
             ],
             [
              0.2222222222222222,
              "#7201a8"
             ],
             [
              0.3333333333333333,
              "#9c179e"
             ],
             [
              0.4444444444444444,
              "#bd3786"
             ],
             [
              0.5555555555555556,
              "#d8576b"
             ],
             [
              0.6666666666666666,
              "#ed7953"
             ],
             [
              0.7777777777777778,
              "#fb9f3a"
             ],
             [
              0.8888888888888888,
              "#fdca26"
             ],
             [
              1,
              "#f0f921"
             ]
            ],
            "type": "histogram2dcontour"
           }
          ],
          "mesh3d": [
           {
            "colorbar": {
             "outlinewidth": 0,
             "ticks": ""
            },
            "type": "mesh3d"
           }
          ],
          "parcoords": [
           {
            "line": {
             "colorbar": {
              "outlinewidth": 0,
              "ticks": ""
             }
            },
            "type": "parcoords"
           }
          ],
          "pie": [
           {
            "automargin": true,
            "type": "pie"
           }
          ],
          "scatter": [
           {
            "fillpattern": {
             "fillmode": "overlay",
             "size": 10,
             "solidity": 0.2
            },
            "type": "scatter"
           }
          ],
          "scatter3d": [
           {
            "line": {
             "colorbar": {
              "outlinewidth": 0,
              "ticks": ""
             }
            },
            "marker": {
             "colorbar": {
              "outlinewidth": 0,
              "ticks": ""
             }
            },
            "type": "scatter3d"
           }
          ],
          "scattercarpet": [
           {
            "marker": {
             "colorbar": {
              "outlinewidth": 0,
              "ticks": ""
             }
            },
            "type": "scattercarpet"
           }
          ],
          "scattergeo": [
           {
            "marker": {
             "colorbar": {
              "outlinewidth": 0,
              "ticks": ""
             }
            },
            "type": "scattergeo"
           }
          ],
          "scattergl": [
           {
            "marker": {
             "colorbar": {
              "outlinewidth": 0,
              "ticks": ""
             }
            },
            "type": "scattergl"
           }
          ],
          "scattermapbox": [
           {
            "marker": {
             "colorbar": {
              "outlinewidth": 0,
              "ticks": ""
             }
            },
            "type": "scattermapbox"
           }
          ],
          "scatterpolar": [
           {
            "marker": {
             "colorbar": {
              "outlinewidth": 0,
              "ticks": ""
             }
            },
            "type": "scatterpolar"
           }
          ],
          "scatterpolargl": [
           {
            "marker": {
             "colorbar": {
              "outlinewidth": 0,
              "ticks": ""
             }
            },
            "type": "scatterpolargl"
           }
          ],
          "scatterternary": [
           {
            "marker": {
             "colorbar": {
              "outlinewidth": 0,
              "ticks": ""
             }
            },
            "type": "scatterternary"
           }
          ],
          "surface": [
           {
            "colorbar": {
             "outlinewidth": 0,
             "ticks": ""
            },
            "colorscale": [
             [
              0,
              "#0d0887"
             ],
             [
              0.1111111111111111,
              "#46039f"
             ],
             [
              0.2222222222222222,
              "#7201a8"
             ],
             [
              0.3333333333333333,
              "#9c179e"
             ],
             [
              0.4444444444444444,
              "#bd3786"
             ],
             [
              0.5555555555555556,
              "#d8576b"
             ],
             [
              0.6666666666666666,
              "#ed7953"
             ],
             [
              0.7777777777777778,
              "#fb9f3a"
             ],
             [
              0.8888888888888888,
              "#fdca26"
             ],
             [
              1,
              "#f0f921"
             ]
            ],
            "type": "surface"
           }
          ],
          "table": [
           {
            "cells": {
             "fill": {
              "color": "#EBF0F8"
             },
             "line": {
              "color": "white"
             }
            },
            "header": {
             "fill": {
              "color": "#C8D4E3"
             },
             "line": {
              "color": "white"
             }
            },
            "type": "table"
           }
          ]
         },
         "layout": {
          "annotationdefaults": {
           "arrowcolor": "#2a3f5f",
           "arrowhead": 0,
           "arrowwidth": 1
          },
          "autotypenumbers": "strict",
          "coloraxis": {
           "colorbar": {
            "outlinewidth": 0,
            "ticks": ""
           }
          },
          "colorscale": {
           "diverging": [
            [
             0,
             "#8e0152"
            ],
            [
             0.1,
             "#c51b7d"
            ],
            [
             0.2,
             "#de77ae"
            ],
            [
             0.3,
             "#f1b6da"
            ],
            [
             0.4,
             "#fde0ef"
            ],
            [
             0.5,
             "#f7f7f7"
            ],
            [
             0.6,
             "#e6f5d0"
            ],
            [
             0.7,
             "#b8e186"
            ],
            [
             0.8,
             "#7fbc41"
            ],
            [
             0.9,
             "#4d9221"
            ],
            [
             1,
             "#276419"
            ]
           ],
           "sequential": [
            [
             0,
             "#0d0887"
            ],
            [
             0.1111111111111111,
             "#46039f"
            ],
            [
             0.2222222222222222,
             "#7201a8"
            ],
            [
             0.3333333333333333,
             "#9c179e"
            ],
            [
             0.4444444444444444,
             "#bd3786"
            ],
            [
             0.5555555555555556,
             "#d8576b"
            ],
            [
             0.6666666666666666,
             "#ed7953"
            ],
            [
             0.7777777777777778,
             "#fb9f3a"
            ],
            [
             0.8888888888888888,
             "#fdca26"
            ],
            [
             1,
             "#f0f921"
            ]
           ],
           "sequentialminus": [
            [
             0,
             "#0d0887"
            ],
            [
             0.1111111111111111,
             "#46039f"
            ],
            [
             0.2222222222222222,
             "#7201a8"
            ],
            [
             0.3333333333333333,
             "#9c179e"
            ],
            [
             0.4444444444444444,
             "#bd3786"
            ],
            [
             0.5555555555555556,
             "#d8576b"
            ],
            [
             0.6666666666666666,
             "#ed7953"
            ],
            [
             0.7777777777777778,
             "#fb9f3a"
            ],
            [
             0.8888888888888888,
             "#fdca26"
            ],
            [
             1,
             "#f0f921"
            ]
           ]
          },
          "colorway": [
           "#636efa",
           "#EF553B",
           "#00cc96",
           "#ab63fa",
           "#FFA15A",
           "#19d3f3",
           "#FF6692",
           "#B6E880",
           "#FF97FF",
           "#FECB52"
          ],
          "font": {
           "color": "#2a3f5f"
          },
          "geo": {
           "bgcolor": "white",
           "lakecolor": "white",
           "landcolor": "#E5ECF6",
           "showlakes": true,
           "showland": true,
           "subunitcolor": "white"
          },
          "hoverlabel": {
           "align": "left"
          },
          "hovermode": "closest",
          "mapbox": {
           "style": "light"
          },
          "paper_bgcolor": "white",
          "plot_bgcolor": "#E5ECF6",
          "polar": {
           "angularaxis": {
            "gridcolor": "white",
            "linecolor": "white",
            "ticks": ""
           },
           "bgcolor": "#E5ECF6",
           "radialaxis": {
            "gridcolor": "white",
            "linecolor": "white",
            "ticks": ""
           }
          },
          "scene": {
           "xaxis": {
            "backgroundcolor": "#E5ECF6",
            "gridcolor": "white",
            "gridwidth": 2,
            "linecolor": "white",
            "showbackground": true,
            "ticks": "",
            "zerolinecolor": "white"
           },
           "yaxis": {
            "backgroundcolor": "#E5ECF6",
            "gridcolor": "white",
            "gridwidth": 2,
            "linecolor": "white",
            "showbackground": true,
            "ticks": "",
            "zerolinecolor": "white"
           },
           "zaxis": {
            "backgroundcolor": "#E5ECF6",
            "gridcolor": "white",
            "gridwidth": 2,
            "linecolor": "white",
            "showbackground": true,
            "ticks": "",
            "zerolinecolor": "white"
           }
          },
          "shapedefaults": {
           "line": {
            "color": "#2a3f5f"
           }
          },
          "ternary": {
           "aaxis": {
            "gridcolor": "white",
            "linecolor": "white",
            "ticks": ""
           },
           "baxis": {
            "gridcolor": "white",
            "linecolor": "white",
            "ticks": ""
           },
           "bgcolor": "#E5ECF6",
           "caxis": {
            "gridcolor": "white",
            "linecolor": "white",
            "ticks": ""
           }
          },
          "title": {
           "x": 0.05
          },
          "xaxis": {
           "automargin": true,
           "gridcolor": "white",
           "linecolor": "white",
           "ticks": "",
           "title": {
            "standoff": 15
           },
           "zerolinecolor": "white",
           "zerolinewidth": 2
          },
          "yaxis": {
           "automargin": true,
           "gridcolor": "white",
           "linecolor": "white",
           "ticks": "",
           "title": {
            "standoff": 15
           },
           "zerolinecolor": "white",
           "zerolinewidth": 2
          }
         }
        },
        "title": {
         "text": "Distribucion de la mediana anual de Desv. std, por pais (precios constantes)"
        },
        "xaxis": {
         "anchor": "y",
         "domain": [
          0,
          0.49
         ],
         "title": {
          "text": "pais"
         },
         "type": "category"
        },
        "xaxis2": {
         "anchor": "y2",
         "domain": [
          0.51,
          1
         ],
         "matches": "x",
         "title": {
          "text": "pais"
         },
         "type": "category"
        },
        "yaxis": {
         "anchor": "x",
         "domain": [
          0,
          1
         ],
         "title": {
          "text": "Mediana anual de Desv. std (nlog)"
         }
        },
        "yaxis2": {
         "anchor": "x2",
         "domain": [
          0,
          1
         ],
         "matches": "y",
         "showticklabels": false
        }
       }
      }
     },
     "metadata": {},
     "output_type": "display_data"
    }
   ],
   "source": [
    "# transformos los datos a su log natural para facilitar su visualizacion\n",
    "data_market_prcvoltlty_constant_sd_group_pais.loc[:,'sd_group_pais_median_log'] = np.log(\n",
    "    data_market_prcvoltlty_constant_sd_group_pais['sd_group_pais_median'])\n",
    "\n",
    "# Boxplot\n",
    "boxplot_constant = px.box(\n",
    "    data_market_prcvoltlty_constant_sd_group_pais,\n",
    "    x='code_pais',\n",
    "    y='sd_group_pais_median_log',\n",
    "    points='all',\n",
    "    facet_col='category_id',\n",
    "    facet_col_wrap=2,\n",
    "    labels={\n",
    "        'code_pais': 'pais',\n",
    "        'sd_group_pais_median_log': 'Mediana anual de Desv. std (nlog)',\n",
    "        'category_id': 'Categoria'},\n",
    "    title='Distribucion de la mediana anual de Desv. std, por pais (precios constantes)')\n",
    "boxplot_constant.update_xaxes(type='category')\n",
    "boxplot_constant.show()"
   ]
  },
  {
   "cell_type": "markdown",
   "metadata": {},
   "source": [
    "## 3.3. Las criptomonedas relativamente mas estables: Indice de estabilidad relativa"
   ]
  },
  {
   "cell_type": "code",
   "execution_count": 12,
   "metadata": {},
   "outputs": [
    {
     "data": {
      "text/html": [
       "<div>\n",
       "<style scoped>\n",
       "    .dataframe tbody tr th:only-of-type {\n",
       "        vertical-align: middle;\n",
       "    }\n",
       "\n",
       "    .dataframe tbody tr th {\n",
       "        vertical-align: top;\n",
       "    }\n",
       "\n",
       "    .dataframe thead th {\n",
       "        text-align: right;\n",
       "    }\n",
       "</style>\n",
       "<table border=\"1\" class=\"dataframe\">\n",
       "  <thead>\n",
       "    <tr style=\"text-align: right;\">\n",
       "      <th></th>\n",
       "      <th>category_id</th>\n",
       "      <th>coin_id</th>\n",
       "      <th>year</th>\n",
       "      <th>vltlty_rank</th>\n",
       "      <th>vltlty_rank_rscld</th>\n",
       "    </tr>\n",
       "  </thead>\n",
       "  <tbody>\n",
       "    <tr>\n",
       "      <th>10</th>\n",
       "      <td>layer-1</td>\n",
       "      <td>bitcoin</td>\n",
       "      <td>2019</td>\n",
       "      <td>1.0</td>\n",
       "      <td>0.0</td>\n",
       "    </tr>\n",
       "    <tr>\n",
       "      <th>15</th>\n",
       "      <td>layer-1</td>\n",
       "      <td>bitcoin-cash</td>\n",
       "      <td>2019</td>\n",
       "      <td>2.0</td>\n",
       "      <td>0.1</td>\n",
       "    </tr>\n",
       "    <tr>\n",
       "      <th>35</th>\n",
       "      <td>layer-1</td>\n",
       "      <td>ethereum</td>\n",
       "      <td>2019</td>\n",
       "      <td>3.0</td>\n",
       "      <td>0.2</td>\n",
       "    </tr>\n",
       "  </tbody>\n",
       "</table>\n",
       "</div>"
      ],
      "text/plain": [
       "   category_id       coin_id  year  vltlty_rank  vltlty_rank_rscld\n",
       "10     layer-1       bitcoin  2019          1.0                0.0\n",
       "15     layer-1  bitcoin-cash  2019          2.0                0.1\n",
       "35     layer-1      ethereum  2019          3.0                0.2"
      ]
     },
     "execution_count": 12,
     "metadata": {},
     "output_type": "execute_result"
    }
   ],
   "source": [
    "def rescalar(x):\n",
    "    return (x - np.min(x)) / (np.max(x) - np.min(x))\n",
    "\n",
    "data_market_vltltyindex = data_market_prcvoltlty_crrnt.loc[:,\n",
    "    ['category_id','coin_id','year','vltlty_rank']\n",
    "].copy()\n",
    "data_market_vltltyindex_res=data_market_vltltyindex.groupby(\n",
    "    ['category_id','year'])['vltlty_rank'].apply(rescalar)\n",
    "data_market_vltltyindex_res=data_market_vltltyindex_res.reset_index(\n",
    "    level=['category_id','year']).rename(\n",
    "        columns={'vltlty_rank':'vltlty_rank_rscld'}).drop(columns=['category_id','year'])\n",
    "data_market_vltltyindex=data_market_vltltyindex.join(data_market_vltltyindex_res)\n",
    "data_market_vltltyindex.head(3)"
   ]
  },
  {
   "cell_type": "code",
   "execution_count": 13,
   "metadata": {},
   "outputs": [
    {
     "data": {
      "text/html": [
       "<div>\n",
       "<style scoped>\n",
       "    .dataframe tbody tr th:only-of-type {\n",
       "        vertical-align: middle;\n",
       "    }\n",
       "\n",
       "    .dataframe tbody tr th {\n",
       "        vertical-align: top;\n",
       "    }\n",
       "\n",
       "    .dataframe thead th {\n",
       "        text-align: right;\n",
       "    }\n",
       "</style>\n",
       "<table border=\"1\" class=\"dataframe\">\n",
       "  <thead>\n",
       "    <tr style=\"text-align: right;\">\n",
       "      <th></th>\n",
       "      <th>category_id</th>\n",
       "      <th>coin_id</th>\n",
       "      <th>relstblty_index</th>\n",
       "    </tr>\n",
       "  </thead>\n",
       "  <tbody>\n",
       "    <tr>\n",
       "      <th>18</th>\n",
       "      <td>stablecoins</td>\n",
       "      <td>tether</td>\n",
       "      <td>0.911111</td>\n",
       "    </tr>\n",
       "    <tr>\n",
       "      <th>12</th>\n",
       "      <td>stablecoins</td>\n",
       "      <td>binance-usd</td>\n",
       "      <td>0.733333</td>\n",
       "    </tr>\n",
       "    <tr>\n",
       "      <th>20</th>\n",
       "      <td>stablecoins</td>\n",
       "      <td>usd-coin</td>\n",
       "      <td>0.688889</td>\n",
       "    </tr>\n",
       "    <tr>\n",
       "      <th>19</th>\n",
       "      <td>stablecoins</td>\n",
       "      <td>true-usd</td>\n",
       "      <td>0.644444</td>\n",
       "    </tr>\n",
       "    <tr>\n",
       "      <th>13</th>\n",
       "      <td>stablecoins</td>\n",
       "      <td>dai</td>\n",
       "      <td>0.622222</td>\n",
       "    </tr>\n",
       "    <tr>\n",
       "      <th>16</th>\n",
       "      <td>stablecoins</td>\n",
       "      <td>paxos-standard</td>\n",
       "      <td>0.577778</td>\n",
       "    </tr>\n",
       "    <tr>\n",
       "      <th>11</th>\n",
       "      <td>stablecoins</td>\n",
       "      <td>bilira</td>\n",
       "      <td>0.377778</td>\n",
       "    </tr>\n",
       "    <tr>\n",
       "      <th>14</th>\n",
       "      <td>stablecoins</td>\n",
       "      <td>gemini-dollar</td>\n",
       "      <td>0.333333</td>\n",
       "    </tr>\n",
       "    <tr>\n",
       "      <th>17</th>\n",
       "      <td>stablecoins</td>\n",
       "      <td>stasis-eurs</td>\n",
       "      <td>0.111111</td>\n",
       "    </tr>\n",
       "    <tr>\n",
       "      <th>15</th>\n",
       "      <td>stablecoins</td>\n",
       "      <td>pax-gold</td>\n",
       "      <td>0.000000</td>\n",
       "    </tr>\n",
       "    <tr>\n",
       "      <th>9</th>\n",
       "      <td>layer-1</td>\n",
       "      <td>hedera-hashgraph</td>\n",
       "      <td>0.960000</td>\n",
       "    </tr>\n",
       "    <tr>\n",
       "      <th>6</th>\n",
       "      <td>layer-1</td>\n",
       "      <td>crypto-com-chain</td>\n",
       "      <td>0.840000</td>\n",
       "    </tr>\n",
       "    <tr>\n",
       "      <th>4</th>\n",
       "      <td>layer-1</td>\n",
       "      <td>cardano</td>\n",
       "      <td>0.780000</td>\n",
       "    </tr>\n",
       "    <tr>\n",
       "      <th>8</th>\n",
       "      <td>layer-1</td>\n",
       "      <td>fantom</td>\n",
       "      <td>0.740000</td>\n",
       "    </tr>\n",
       "    <tr>\n",
       "      <th>0</th>\n",
       "      <td>layer-1</td>\n",
       "      <td>algorand</td>\n",
       "      <td>0.660000</td>\n",
       "    </tr>\n",
       "    <tr>\n",
       "      <th>10</th>\n",
       "      <td>layer-1</td>\n",
       "      <td>tezos</td>\n",
       "      <td>0.520000</td>\n",
       "    </tr>\n",
       "    <tr>\n",
       "      <th>5</th>\n",
       "      <td>layer-1</td>\n",
       "      <td>cosmos</td>\n",
       "      <td>0.400000</td>\n",
       "    </tr>\n",
       "    <tr>\n",
       "      <th>1</th>\n",
       "      <td>layer-1</td>\n",
       "      <td>binancecoin</td>\n",
       "      <td>0.300000</td>\n",
       "    </tr>\n",
       "    <tr>\n",
       "      <th>3</th>\n",
       "      <td>layer-1</td>\n",
       "      <td>bitcoin-cash</td>\n",
       "      <td>0.180000</td>\n",
       "    </tr>\n",
       "    <tr>\n",
       "      <th>7</th>\n",
       "      <td>layer-1</td>\n",
       "      <td>ethereum</td>\n",
       "      <td>0.120000</td>\n",
       "    </tr>\n",
       "    <tr>\n",
       "      <th>2</th>\n",
       "      <td>layer-1</td>\n",
       "      <td>bitcoin</td>\n",
       "      <td>0.000000</td>\n",
       "    </tr>\n",
       "  </tbody>\n",
       "</table>\n",
       "</div>"
      ],
      "text/plain": [
       "    category_id           coin_id  relstblty_index\n",
       "18  stablecoins            tether         0.911111\n",
       "12  stablecoins       binance-usd         0.733333\n",
       "20  stablecoins          usd-coin         0.688889\n",
       "19  stablecoins          true-usd         0.644444\n",
       "13  stablecoins               dai         0.622222\n",
       "16  stablecoins    paxos-standard         0.577778\n",
       "11  stablecoins            bilira         0.377778\n",
       "14  stablecoins     gemini-dollar         0.333333\n",
       "17  stablecoins       stasis-eurs         0.111111\n",
       "15  stablecoins          pax-gold         0.000000\n",
       "9       layer-1  hedera-hashgraph         0.960000\n",
       "6       layer-1  crypto-com-chain         0.840000\n",
       "4       layer-1           cardano         0.780000\n",
       "8       layer-1            fantom         0.740000\n",
       "0       layer-1          algorand         0.660000\n",
       "10      layer-1             tezos         0.520000\n",
       "5       layer-1            cosmos         0.400000\n",
       "1       layer-1       binancecoin         0.300000\n",
       "3       layer-1      bitcoin-cash         0.180000\n",
       "7       layer-1          ethereum         0.120000\n",
       "2       layer-1           bitcoin         0.000000"
      ]
     },
     "execution_count": 13,
     "metadata": {},
     "output_type": "execute_result"
    }
   ],
   "source": [
    "#index_factor=1/(data_market_vltltyindex.groupby('category_id')['year'].nunique()) # layer-1: 0.2, stablecoins, 0.2\n",
    "index_factor=1/(data_market_vltltyindex['year'].nunique())\n",
    "data_market_vltltyindex['relstblty_index']=data_market_vltltyindex['vltlty_rank_rscld']*index_factor\n",
    "data_vltltyindex=data_market_vltltyindex.groupby(\n",
    "    ['category_id','coin_id'])['relstblty_index'].sum().reset_index().sort_values(\n",
    "        by=['category_id','relstblty_index'],ascending=False)\n",
    "data_vltltyindex.to_csv(os.path.join(\"3_output\",\"data_vltltyindex.csv\"))\n",
    "data_vltltyindex"
   ]
  },
  {
   "cell_type": "markdown",
   "metadata": {},
   "source": [
    "### 3.3.1. Stablecoinds: Caracteristicas tecnologicas de las mas estables"
   ]
  },
  {
   "cell_type": "code",
   "execution_count": 14,
   "metadata": {},
   "outputs": [],
   "source": [
    "data_vltltyindex_stablecoins_high=data_vltltyindex.loc[\n",
    "    (data_vltltyindex['category_id'].str.contains('stablecoins')) &\n",
    "    (data_vltltyindex['relstblty_index'] > 0.6)\n",
    "    ].merge(data_coins_info_stable)\n",
    "data_vltltyindex_stablecoins_low=data_vltltyindex.loc[\n",
    "    (data_vltltyindex['category_id'].str.contains('stablecoins')) &\n",
    "    (data_vltltyindex['relstblty_index'] < 0.6)\n",
    "    ].merge(data_coins_info_stable)"
   ]
  },
  {
   "cell_type": "code",
   "execution_count": 15,
   "metadata": {},
   "outputs": [
    {
     "data": {
      "text/html": [
       "<div>\n",
       "<style scoped>\n",
       "    .dataframe tbody tr th:only-of-type {\n",
       "        vertical-align: middle;\n",
       "    }\n",
       "\n",
       "    .dataframe tbody tr th {\n",
       "        vertical-align: top;\n",
       "    }\n",
       "\n",
       "    .dataframe thead th {\n",
       "        text-align: right;\n",
       "    }\n",
       "</style>\n",
       "<table border=\"1\" class=\"dataframe\">\n",
       "  <thead>\n",
       "    <tr style=\"text-align: right;\">\n",
       "      <th></th>\n",
       "      <th>category</th>\n",
       "      <th>count</th>\n",
       "      <th>count_shr</th>\n",
       "    </tr>\n",
       "  </thead>\n",
       "  <tbody>\n",
       "    <tr>\n",
       "      <th>0</th>\n",
       "      <td>Fantom Ecosystem</td>\n",
       "      <td>5</td>\n",
       "      <td>100.0</td>\n",
       "    </tr>\n",
       "    <tr>\n",
       "      <th>1</th>\n",
       "      <td>USD Stablecoin</td>\n",
       "      <td>5</td>\n",
       "      <td>100.0</td>\n",
       "    </tr>\n",
       "    <tr>\n",
       "      <th>2</th>\n",
       "      <td>Ethereum Ecosystem</td>\n",
       "      <td>5</td>\n",
       "      <td>100.0</td>\n",
       "    </tr>\n",
       "    <tr>\n",
       "      <th>3</th>\n",
       "      <td>Stablecoins</td>\n",
       "      <td>5</td>\n",
       "      <td>100.0</td>\n",
       "    </tr>\n",
       "    <tr>\n",
       "      <th>4</th>\n",
       "      <td>Polygon Ecosystem</td>\n",
       "      <td>5</td>\n",
       "      <td>100.0</td>\n",
       "    </tr>\n",
       "    <tr>\n",
       "      <th>5</th>\n",
       "      <td>Harmony Ecosystem</td>\n",
       "      <td>5</td>\n",
       "      <td>100.0</td>\n",
       "    </tr>\n",
       "    <tr>\n",
       "      <th>6</th>\n",
       "      <td>Moonbeam Ecosystem</td>\n",
       "      <td>4</td>\n",
       "      <td>80.0</td>\n",
       "    </tr>\n",
       "    <tr>\n",
       "      <th>7</th>\n",
       "      <td>Velas Ecosystem</td>\n",
       "      <td>4</td>\n",
       "      <td>80.0</td>\n",
       "    </tr>\n",
       "    <tr>\n",
       "      <th>8</th>\n",
       "      <td>Arbitrum Ecosystem</td>\n",
       "      <td>4</td>\n",
       "      <td>80.0</td>\n",
       "    </tr>\n",
       "    <tr>\n",
       "      <th>9</th>\n",
       "      <td>Near Protocol Ecosystem</td>\n",
       "      <td>4</td>\n",
       "      <td>80.0</td>\n",
       "    </tr>\n",
       "    <tr>\n",
       "      <th>10</th>\n",
       "      <td>Cronos Ecosystem</td>\n",
       "      <td>4</td>\n",
       "      <td>80.0</td>\n",
       "    </tr>\n",
       "    <tr>\n",
       "      <th>11</th>\n",
       "      <td>Moonriver Ecosystem</td>\n",
       "      <td>4</td>\n",
       "      <td>80.0</td>\n",
       "    </tr>\n",
       "    <tr>\n",
       "      <th>12</th>\n",
       "      <td>Avalanche Ecosystem</td>\n",
       "      <td>4</td>\n",
       "      <td>80.0</td>\n",
       "    </tr>\n",
       "    <tr>\n",
       "      <th>13</th>\n",
       "      <td>Gnosis Chain Ecosystem</td>\n",
       "      <td>4</td>\n",
       "      <td>80.0</td>\n",
       "    </tr>\n",
       "    <tr>\n",
       "      <th>14</th>\n",
       "      <td>BNB Chain Ecosystem</td>\n",
       "      <td>4</td>\n",
       "      <td>80.0</td>\n",
       "    </tr>\n",
       "    <tr>\n",
       "      <th>15</th>\n",
       "      <td>Metis Ecosystem</td>\n",
       "      <td>3</td>\n",
       "      <td>60.0</td>\n",
       "    </tr>\n",
       "    <tr>\n",
       "      <th>16</th>\n",
       "      <td>Optimism Ecosystem</td>\n",
       "      <td>3</td>\n",
       "      <td>60.0</td>\n",
       "    </tr>\n",
       "    <tr>\n",
       "      <th>17</th>\n",
       "      <td>Arbitrum Nova Ecosystem</td>\n",
       "      <td>2</td>\n",
       "      <td>40.0</td>\n",
       "    </tr>\n",
       "    <tr>\n",
       "      <th>18</th>\n",
       "      <td>Canto Ecosystem</td>\n",
       "      <td>2</td>\n",
       "      <td>40.0</td>\n",
       "    </tr>\n",
       "    <tr>\n",
       "      <th>19</th>\n",
       "      <td>Mantle Ecosystem</td>\n",
       "      <td>2</td>\n",
       "      <td>40.0</td>\n",
       "    </tr>\n",
       "  </tbody>\n",
       "</table>\n",
       "</div>"
      ],
      "text/plain": [
       "                   category  count  count_shr\n",
       "0          Fantom Ecosystem      5      100.0\n",
       "1            USD Stablecoin      5      100.0\n",
       "2        Ethereum Ecosystem      5      100.0\n",
       "3               Stablecoins      5      100.0\n",
       "4         Polygon Ecosystem      5      100.0\n",
       "5         Harmony Ecosystem      5      100.0\n",
       "6        Moonbeam Ecosystem      4       80.0\n",
       "7           Velas Ecosystem      4       80.0\n",
       "8        Arbitrum Ecosystem      4       80.0\n",
       "9   Near Protocol Ecosystem      4       80.0\n",
       "10         Cronos Ecosystem      4       80.0\n",
       "11      Moonriver Ecosystem      4       80.0\n",
       "12      Avalanche Ecosystem      4       80.0\n",
       "13   Gnosis Chain Ecosystem      4       80.0\n",
       "14      BNB Chain Ecosystem      4       80.0\n",
       "15          Metis Ecosystem      3       60.0\n",
       "16       Optimism Ecosystem      3       60.0\n",
       "17  Arbitrum Nova Ecosystem      2       40.0\n",
       "18          Canto Ecosystem      2       40.0\n",
       "19         Mantle Ecosystem      2       40.0"
      ]
     },
     "execution_count": 15,
     "metadata": {},
     "output_type": "execute_result"
    }
   ],
   "source": [
    "# calculamos la frecuencia de cada una de las etiquetas listadas\n",
    "# cada etiqueta corresponde a una caracteristica tecnologica\n",
    "categories_freq_stable_high=pd.DataFrame(\n",
    "    pd.Series(list(chain.from_iterable(data_vltltyindex_stablecoins_high['categories'].dropna())))\n",
    "    .value_counts()).reset_index().rename(columns={'index':'category'})\n",
    "\n",
    "# nuevamente, las caracteristicas no son excluyentes, asi que una criptomoneda puede evidenciar multiples caracteristicas\n",
    "# por esta razon, expresamos la frecuencia de cada caracteristica como porcentaje del total de casos del grupo;\n",
    "# naturalmente, todos los casos del grupo stablecoins son stablecoins;\n",
    "# dejamos esta fila como confirmacion de la consistencia en la conformacion de grupos\n",
    "categories_freq_stable_high['count_shr']=round((categories_freq_stable_high['count']/data_vltltyindex_stablecoins_high['coin_id'].nunique())*100,2)\n",
    "\n",
    "# resultados\n",
    "categories_freq_stable_high.to_csv(os.path.join(\"3_output\",\"categories_freq_stable_high.csv\"))\n",
    "categories_freq_stable_high.head(20)"
   ]
  },
  {
   "cell_type": "code",
   "execution_count": 16,
   "metadata": {},
   "outputs": [
    {
     "data": {
      "text/html": [
       "<div>\n",
       "<style scoped>\n",
       "    .dataframe tbody tr th:only-of-type {\n",
       "        vertical-align: middle;\n",
       "    }\n",
       "\n",
       "    .dataframe tbody tr th {\n",
       "        vertical-align: top;\n",
       "    }\n",
       "\n",
       "    .dataframe thead th {\n",
       "        text-align: right;\n",
       "    }\n",
       "</style>\n",
       "<table border=\"1\" class=\"dataframe\">\n",
       "  <thead>\n",
       "    <tr style=\"text-align: right;\">\n",
       "      <th></th>\n",
       "      <th>category</th>\n",
       "      <th>count</th>\n",
       "      <th>count_shr</th>\n",
       "    </tr>\n",
       "  </thead>\n",
       "  <tbody>\n",
       "    <tr>\n",
       "      <th>0</th>\n",
       "      <td>Stablecoins</td>\n",
       "      <td>5</td>\n",
       "      <td>100.0</td>\n",
       "    </tr>\n",
       "    <tr>\n",
       "      <th>1</th>\n",
       "      <td>Ethereum Ecosystem</td>\n",
       "      <td>5</td>\n",
       "      <td>100.0</td>\n",
       "    </tr>\n",
       "    <tr>\n",
       "      <th>2</th>\n",
       "      <td>USD Stablecoin</td>\n",
       "      <td>2</td>\n",
       "      <td>40.0</td>\n",
       "    </tr>\n",
       "    <tr>\n",
       "      <th>3</th>\n",
       "      <td>Finance / Banking</td>\n",
       "      <td>2</td>\n",
       "      <td>40.0</td>\n",
       "    </tr>\n",
       "    <tr>\n",
       "      <th>4</th>\n",
       "      <td>Polygon Ecosystem</td>\n",
       "      <td>2</td>\n",
       "      <td>40.0</td>\n",
       "    </tr>\n",
       "    <tr>\n",
       "      <th>5</th>\n",
       "      <td>BNB Chain Ecosystem</td>\n",
       "      <td>1</td>\n",
       "      <td>20.0</td>\n",
       "    </tr>\n",
       "    <tr>\n",
       "      <th>6</th>\n",
       "      <td>Solana Ecosystem</td>\n",
       "      <td>1</td>\n",
       "      <td>20.0</td>\n",
       "    </tr>\n",
       "    <tr>\n",
       "      <th>7</th>\n",
       "      <td>Avalanche Ecosystem</td>\n",
       "      <td>1</td>\n",
       "      <td>20.0</td>\n",
       "    </tr>\n",
       "    <tr>\n",
       "      <th>8</th>\n",
       "      <td>TRY Stablecoin</td>\n",
       "      <td>1</td>\n",
       "      <td>20.0</td>\n",
       "    </tr>\n",
       "    <tr>\n",
       "      <th>9</th>\n",
       "      <td>Cryptocurrency</td>\n",
       "      <td>1</td>\n",
       "      <td>20.0</td>\n",
       "    </tr>\n",
       "    <tr>\n",
       "      <th>10</th>\n",
       "      <td>EUR Stablecoin</td>\n",
       "      <td>1</td>\n",
       "      <td>20.0</td>\n",
       "    </tr>\n",
       "    <tr>\n",
       "      <th>11</th>\n",
       "      <td>XDC Ecosystem</td>\n",
       "      <td>1</td>\n",
       "      <td>20.0</td>\n",
       "    </tr>\n",
       "    <tr>\n",
       "      <th>12</th>\n",
       "      <td>Asset-backed Tokens</td>\n",
       "      <td>1</td>\n",
       "      <td>20.0</td>\n",
       "    </tr>\n",
       "    <tr>\n",
       "      <th>13</th>\n",
       "      <td>Tokenized Gold</td>\n",
       "      <td>1</td>\n",
       "      <td>20.0</td>\n",
       "    </tr>\n",
       "    <tr>\n",
       "      <th>14</th>\n",
       "      <td>Harmony Ecosystem</td>\n",
       "      <td>1</td>\n",
       "      <td>20.0</td>\n",
       "    </tr>\n",
       "  </tbody>\n",
       "</table>\n",
       "</div>"
      ],
      "text/plain": [
       "               category  count  count_shr\n",
       "0           Stablecoins      5      100.0\n",
       "1    Ethereum Ecosystem      5      100.0\n",
       "2        USD Stablecoin      2       40.0\n",
       "3     Finance / Banking      2       40.0\n",
       "4     Polygon Ecosystem      2       40.0\n",
       "5   BNB Chain Ecosystem      1       20.0\n",
       "6      Solana Ecosystem      1       20.0\n",
       "7   Avalanche Ecosystem      1       20.0\n",
       "8        TRY Stablecoin      1       20.0\n",
       "9        Cryptocurrency      1       20.0\n",
       "10       EUR Stablecoin      1       20.0\n",
       "11        XDC Ecosystem      1       20.0\n",
       "12  Asset-backed Tokens      1       20.0\n",
       "13       Tokenized Gold      1       20.0\n",
       "14    Harmony Ecosystem      1       20.0"
      ]
     },
     "execution_count": 16,
     "metadata": {},
     "output_type": "execute_result"
    }
   ],
   "source": [
    "# calculamos la frecuencia de cada una de las etiquetas listadas\n",
    "# cada etiqueta corresponde a una caracteristica tecnologica\n",
    "categories_freq_stable_low=pd.DataFrame(\n",
    "    pd.Series(list(chain.from_iterable(data_vltltyindex_stablecoins_low['categories'].dropna())))\n",
    "    .value_counts()).reset_index().rename(columns={'index':'category'})\n",
    "\n",
    "# nuevamente, las caracteristicas no son excluyentes, asi que una criptomoneda puede evidenciar multiples caracteristicas\n",
    "# por esta razon, expresamos la frecuencia de cada caracteristica como porcentaje del total de casos del grupo;\n",
    "# naturalmente, todos los casos del grupo stablecoins son stablecoins;\n",
    "# dejamos esta fila como confirmacion de la consistencia en la conformacion de grupos\n",
    "categories_freq_stable_low['count_shr']=round((categories_freq_stable_low['count']/data_vltltyindex_stablecoins_low['coin_id'].nunique())*100,2)\n",
    "\n",
    "# resultados\n",
    "categories_freq_stable_low.to_csv(os.path.join(\"3_output\",\"categories_freq_stable_low.csv\"))\n",
    "categories_freq_stable_low.head(20)"
   ]
  },
  {
   "cell_type": "markdown",
   "metadata": {},
   "source": [
    "### 3.3.2. Layer-1: Caracteristicas tecnologicas de las mas estables"
   ]
  },
  {
   "cell_type": "code",
   "execution_count": 17,
   "metadata": {},
   "outputs": [],
   "source": [
    "data_vltltyindex_layer1_high=data_vltltyindex.loc[\n",
    "    (data_vltltyindex['category_id'].str.contains('layer-1')) &\n",
    "    (data_vltltyindex['relstblty_index'] > 0.6)\n",
    "    ].merge(data_coins_info_layer1)\n",
    "data_vltltyindex_layer1_low=data_vltltyindex.loc[\n",
    "    (data_vltltyindex['category_id'].str.contains('layer-1')) &\n",
    "    (data_vltltyindex['relstblty_index'] < 0.5)\n",
    "    ].merge(data_coins_info_layer1)"
   ]
  },
  {
   "cell_type": "code",
   "execution_count": 18,
   "metadata": {},
   "outputs": [
    {
     "data": {
      "text/html": [
       "<div>\n",
       "<style scoped>\n",
       "    .dataframe tbody tr th:only-of-type {\n",
       "        vertical-align: middle;\n",
       "    }\n",
       "\n",
       "    .dataframe tbody tr th {\n",
       "        vertical-align: top;\n",
       "    }\n",
       "\n",
       "    .dataframe thead th {\n",
       "        text-align: right;\n",
       "    }\n",
       "</style>\n",
       "<table border=\"1\" class=\"dataframe\">\n",
       "  <thead>\n",
       "    <tr style=\"text-align: right;\">\n",
       "      <th></th>\n",
       "      <th>category</th>\n",
       "      <th>count</th>\n",
       "      <th>count_shr</th>\n",
       "    </tr>\n",
       "  </thead>\n",
       "  <tbody>\n",
       "    <tr>\n",
       "      <th>0</th>\n",
       "      <td>Layer 1 (L1)</td>\n",
       "      <td>5</td>\n",
       "      <td>100.0</td>\n",
       "    </tr>\n",
       "    <tr>\n",
       "      <th>1</th>\n",
       "      <td>Smart Contract Platform</td>\n",
       "      <td>4</td>\n",
       "      <td>80.0</td>\n",
       "    </tr>\n",
       "    <tr>\n",
       "      <th>2</th>\n",
       "      <td>Harmony Ecosystem</td>\n",
       "      <td>2</td>\n",
       "      <td>40.0</td>\n",
       "    </tr>\n",
       "    <tr>\n",
       "      <th>3</th>\n",
       "      <td>Ethereum Ecosystem</td>\n",
       "      <td>2</td>\n",
       "      <td>40.0</td>\n",
       "    </tr>\n",
       "    <tr>\n",
       "      <th>4</th>\n",
       "      <td>Alleged SEC Securities</td>\n",
       "      <td>2</td>\n",
       "      <td>40.0</td>\n",
       "    </tr>\n",
       "    <tr>\n",
       "      <th>5</th>\n",
       "      <td>Protocol</td>\n",
       "      <td>1</td>\n",
       "      <td>20.0</td>\n",
       "    </tr>\n",
       "    <tr>\n",
       "      <th>6</th>\n",
       "      <td>Infrastructure</td>\n",
       "      <td>1</td>\n",
       "      <td>20.0</td>\n",
       "    </tr>\n",
       "    <tr>\n",
       "      <th>7</th>\n",
       "      <td>Cryptocurrency</td>\n",
       "      <td>1</td>\n",
       "      <td>20.0</td>\n",
       "    </tr>\n",
       "    <tr>\n",
       "      <th>8</th>\n",
       "      <td>Fantom Ecosystem</td>\n",
       "      <td>1</td>\n",
       "      <td>20.0</td>\n",
       "    </tr>\n",
       "    <tr>\n",
       "      <th>9</th>\n",
       "      <td>Moonriver Ecosystem</td>\n",
       "      <td>1</td>\n",
       "      <td>20.0</td>\n",
       "    </tr>\n",
       "    <tr>\n",
       "      <th>10</th>\n",
       "      <td>BNB Chain Ecosystem</td>\n",
       "      <td>1</td>\n",
       "      <td>20.0</td>\n",
       "    </tr>\n",
       "    <tr>\n",
       "      <th>11</th>\n",
       "      <td>Cronos Ecosystem</td>\n",
       "      <td>1</td>\n",
       "      <td>20.0</td>\n",
       "    </tr>\n",
       "    <tr>\n",
       "      <th>12</th>\n",
       "      <td>Cardano Ecosystem</td>\n",
       "      <td>1</td>\n",
       "      <td>20.0</td>\n",
       "    </tr>\n",
       "    <tr>\n",
       "      <th>13</th>\n",
       "      <td>Cosmos Ecosystem</td>\n",
       "      <td>1</td>\n",
       "      <td>20.0</td>\n",
       "    </tr>\n",
       "    <tr>\n",
       "      <th>14</th>\n",
       "      <td>Centralized Exchange (CEX)</td>\n",
       "      <td>1</td>\n",
       "      <td>20.0</td>\n",
       "    </tr>\n",
       "    <tr>\n",
       "      <th>15</th>\n",
       "      <td>Exchange-based Tokens</td>\n",
       "      <td>1</td>\n",
       "      <td>20.0</td>\n",
       "    </tr>\n",
       "    <tr>\n",
       "      <th>16</th>\n",
       "      <td>Algorand Ecosystem</td>\n",
       "      <td>1</td>\n",
       "      <td>20.0</td>\n",
       "    </tr>\n",
       "  </tbody>\n",
       "</table>\n",
       "</div>"
      ],
      "text/plain": [
       "                      category  count  count_shr\n",
       "0                 Layer 1 (L1)      5      100.0\n",
       "1      Smart Contract Platform      4       80.0\n",
       "2            Harmony Ecosystem      2       40.0\n",
       "3           Ethereum Ecosystem      2       40.0\n",
       "4       Alleged SEC Securities      2       40.0\n",
       "5                     Protocol      1       20.0\n",
       "6               Infrastructure      1       20.0\n",
       "7               Cryptocurrency      1       20.0\n",
       "8             Fantom Ecosystem      1       20.0\n",
       "9          Moonriver Ecosystem      1       20.0\n",
       "10         BNB Chain Ecosystem      1       20.0\n",
       "11            Cronos Ecosystem      1       20.0\n",
       "12           Cardano Ecosystem      1       20.0\n",
       "13            Cosmos Ecosystem      1       20.0\n",
       "14  Centralized Exchange (CEX)      1       20.0\n",
       "15       Exchange-based Tokens      1       20.0\n",
       "16          Algorand Ecosystem      1       20.0"
      ]
     },
     "execution_count": 18,
     "metadata": {},
     "output_type": "execute_result"
    }
   ],
   "source": [
    "# calculamos la frecuencia de cada una de las etiquetas listadas\n",
    "# cada etiqueta corresponde a una caracteristica tecnologica\n",
    "categories_freq_layer1_high=pd.DataFrame(\n",
    "    pd.Series(list(chain.from_iterable(data_vltltyindex_layer1_high['categories'].dropna())))\n",
    "    .value_counts()).reset_index().rename(columns={'index':'category'})\n",
    "\n",
    "# nuevamente, las caracteristicas no son excluyentes, asi que una criptomoneda puede evidenciar multiples caracteristicas\n",
    "# por esta razon, expresamos la frecuencia de cada caracteristica como porcentaje del total de casos del grupo;\n",
    "# naturalmente, todos los casos del grupo stablecoins son stablecoins;\n",
    "# dejamos esta fila como confirmacion de la consistencia en la conformacion de grupos\n",
    "categories_freq_layer1_high['count_shr']=round((categories_freq_layer1_high['count']/data_vltltyindex_layer1_high['coin_id'].nunique())*100,2)\n",
    "\n",
    "# resultados\n",
    "categories_freq_layer1_high.to_csv(os.path.join(\"3_output\",\"categories_freq_layer1_high.csv\"))\n",
    "categories_freq_layer1_high.head(20)"
   ]
  },
  {
   "cell_type": "code",
   "execution_count": 19,
   "metadata": {},
   "outputs": [
    {
     "data": {
      "text/html": [
       "<div>\n",
       "<style scoped>\n",
       "    .dataframe tbody tr th:only-of-type {\n",
       "        vertical-align: middle;\n",
       "    }\n",
       "\n",
       "    .dataframe tbody tr th {\n",
       "        vertical-align: top;\n",
       "    }\n",
       "\n",
       "    .dataframe thead th {\n",
       "        text-align: right;\n",
       "    }\n",
       "</style>\n",
       "<table border=\"1\" class=\"dataframe\">\n",
       "  <thead>\n",
       "    <tr style=\"text-align: right;\">\n",
       "      <th></th>\n",
       "      <th>category</th>\n",
       "      <th>count</th>\n",
       "      <th>count_shr</th>\n",
       "    </tr>\n",
       "  </thead>\n",
       "  <tbody>\n",
       "    <tr>\n",
       "      <th>0</th>\n",
       "      <td>Layer 1 (L1)</td>\n",
       "      <td>5</td>\n",
       "      <td>100.0</td>\n",
       "    </tr>\n",
       "    <tr>\n",
       "      <th>1</th>\n",
       "      <td>Smart Contract Platform</td>\n",
       "      <td>3</td>\n",
       "      <td>60.0</td>\n",
       "    </tr>\n",
       "    <tr>\n",
       "      <th>2</th>\n",
       "      <td>Alleged SEC Securities</td>\n",
       "      <td>2</td>\n",
       "      <td>40.0</td>\n",
       "    </tr>\n",
       "    <tr>\n",
       "      <th>3</th>\n",
       "      <td>Cryptocurrency</td>\n",
       "      <td>2</td>\n",
       "      <td>40.0</td>\n",
       "    </tr>\n",
       "    <tr>\n",
       "      <th>4</th>\n",
       "      <td>BNB Chain Ecosystem</td>\n",
       "      <td>2</td>\n",
       "      <td>40.0</td>\n",
       "    </tr>\n",
       "    <tr>\n",
       "      <th>5</th>\n",
       "      <td>Ethereum Ecosystem</td>\n",
       "      <td>2</td>\n",
       "      <td>40.0</td>\n",
       "    </tr>\n",
       "    <tr>\n",
       "      <th>6</th>\n",
       "      <td>Cosmos Ecosystem</td>\n",
       "      <td>1</td>\n",
       "      <td>20.0</td>\n",
       "    </tr>\n",
       "    <tr>\n",
       "      <th>7</th>\n",
       "      <td>Canto Ecosystem</td>\n",
       "      <td>1</td>\n",
       "      <td>20.0</td>\n",
       "    </tr>\n",
       "    <tr>\n",
       "      <th>8</th>\n",
       "      <td>Exchange-based Tokens</td>\n",
       "      <td>1</td>\n",
       "      <td>20.0</td>\n",
       "    </tr>\n",
       "    <tr>\n",
       "      <th>9</th>\n",
       "      <td>Centralized Exchange (CEX)</td>\n",
       "      <td>1</td>\n",
       "      <td>20.0</td>\n",
       "    </tr>\n",
       "    <tr>\n",
       "      <th>10</th>\n",
       "      <td>Avalanche Ecosystem</td>\n",
       "      <td>1</td>\n",
       "      <td>20.0</td>\n",
       "    </tr>\n",
       "    <tr>\n",
       "      <th>11</th>\n",
       "      <td>Moonriver Ecosystem</td>\n",
       "      <td>1</td>\n",
       "      <td>20.0</td>\n",
       "    </tr>\n",
       "    <tr>\n",
       "      <th>12</th>\n",
       "      <td>Polygon Ecosystem</td>\n",
       "      <td>1</td>\n",
       "      <td>20.0</td>\n",
       "    </tr>\n",
       "  </tbody>\n",
       "</table>\n",
       "</div>"
      ],
      "text/plain": [
       "                      category  count  count_shr\n",
       "0                 Layer 1 (L1)      5      100.0\n",
       "1      Smart Contract Platform      3       60.0\n",
       "2       Alleged SEC Securities      2       40.0\n",
       "3               Cryptocurrency      2       40.0\n",
       "4          BNB Chain Ecosystem      2       40.0\n",
       "5           Ethereum Ecosystem      2       40.0\n",
       "6             Cosmos Ecosystem      1       20.0\n",
       "7              Canto Ecosystem      1       20.0\n",
       "8        Exchange-based Tokens      1       20.0\n",
       "9   Centralized Exchange (CEX)      1       20.0\n",
       "10         Avalanche Ecosystem      1       20.0\n",
       "11         Moonriver Ecosystem      1       20.0\n",
       "12           Polygon Ecosystem      1       20.0"
      ]
     },
     "execution_count": 19,
     "metadata": {},
     "output_type": "execute_result"
    }
   ],
   "source": [
    "# calculamos la frecuencia de cada una de las etiquetas listadas\n",
    "# cada etiqueta corresponde a una caracteristica tecnologica\n",
    "categories_freq_layer1_low=pd.DataFrame(\n",
    "    pd.Series(list(chain.from_iterable(data_vltltyindex_layer1_low['categories'].dropna())))\n",
    "    .value_counts()).reset_index().rename(columns={'index':'category'})\n",
    "\n",
    "# nuevamente, las caracteristicas no son excluyentes, asi que una criptomoneda puede evidenciar multiples caracteristicas\n",
    "# por esta razon, expresamos la frecuencia de cada caracteristica como porcentaje del total de casos del grupo;\n",
    "# naturalmente, todos los casos del grupo stablecoins son stablecoins;\n",
    "# dejamos esta fila como confirmacion de la consistencia en la conformacion de grupos\n",
    "categories_freq_layer1_low['count_shr']=round((categories_freq_layer1_low['count']/data_vltltyindex_layer1_low['coin_id'].nunique())*100,2)\n",
    "\n",
    "# resultados\n",
    "categories_freq_layer1_low.to_csv(os.path.join(\"3_output\",\"categories_freq_layer1_low.csv\"))\n",
    "categories_freq_layer1_low.head(20)"
   ]
  }
 ],
 "metadata": {
  "kernelspec": {
   "display_name": "pandas_scikit",
   "language": "python",
   "name": "python3"
  },
  "language_info": {
   "codemirror_mode": {
    "name": "ipython",
    "version": 3
   },
   "file_extension": ".py",
   "mimetype": "text/x-python",
   "name": "python",
   "nbconvert_exporter": "python",
   "pygments_lexer": "ipython3",
   "version": "3.10.12"
  },
  "orig_nbformat": 4
 },
 "nbformat": 4,
 "nbformat_minor": 2
}
